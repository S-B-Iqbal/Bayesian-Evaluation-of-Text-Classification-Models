{
  "nbformat": 4,
  "nbformat_minor": 0,
  "metadata": {
    "colab": {
      "name": "PairedBootstrap.ipynb",
      "provenance": [],
      "collapsed_sections": []
    },
    "kernelspec": {
      "name": "python3",
      "display_name": "Python 3"
    },
    "language_info": {
      "name": "python"
    },
    "widgets": {
      "application/vnd.jupyter.widget-state+json": {
        "de2834a0ce71451e8dffb757f1e3312e": {
          "model_module": "@jupyter-widgets/controls",
          "model_name": "HBoxModel",
          "model_module_version": "1.5.0",
          "state": {
            "_view_name": "HBoxView",
            "_dom_classes": [],
            "_model_name": "HBoxModel",
            "_view_module": "@jupyter-widgets/controls",
            "_model_module_version": "1.5.0",
            "_view_count": null,
            "_view_module_version": "1.5.0",
            "box_style": "",
            "layout": "IPY_MODEL_956519e8b812433c94cf3daed2500af7",
            "_model_module": "@jupyter-widgets/controls",
            "children": [
              "IPY_MODEL_996defe8300b4749a0957482853a8982",
              "IPY_MODEL_8aeb547ec2ff49d3900babb36ad5bcb7",
              "IPY_MODEL_da9f995ba5c1479e8193da6571db9190"
            ]
          }
        },
        "956519e8b812433c94cf3daed2500af7": {
          "model_module": "@jupyter-widgets/base",
          "model_name": "LayoutModel",
          "model_module_version": "1.2.0",
          "state": {
            "_view_name": "LayoutView",
            "grid_template_rows": null,
            "right": null,
            "justify_content": null,
            "_view_module": "@jupyter-widgets/base",
            "overflow": null,
            "_model_module_version": "1.2.0",
            "_view_count": null,
            "flex_flow": null,
            "width": null,
            "min_width": null,
            "border": null,
            "align_items": null,
            "bottom": null,
            "_model_module": "@jupyter-widgets/base",
            "top": null,
            "grid_column": null,
            "overflow_y": null,
            "overflow_x": null,
            "grid_auto_flow": null,
            "grid_area": null,
            "grid_template_columns": null,
            "flex": null,
            "_model_name": "LayoutModel",
            "justify_items": null,
            "grid_row": null,
            "max_height": null,
            "align_content": null,
            "visibility": null,
            "align_self": null,
            "height": null,
            "min_height": null,
            "padding": null,
            "grid_auto_rows": null,
            "grid_gap": null,
            "max_width": null,
            "order": null,
            "_view_module_version": "1.2.0",
            "grid_template_areas": null,
            "object_position": null,
            "object_fit": null,
            "grid_auto_columns": null,
            "margin": null,
            "display": null,
            "left": null
          }
        },
        "996defe8300b4749a0957482853a8982": {
          "model_module": "@jupyter-widgets/controls",
          "model_name": "HTMLModel",
          "model_module_version": "1.5.0",
          "state": {
            "_view_name": "HTMLView",
            "style": "IPY_MODEL_6b8b34e2878e4314ab209c67951c556b",
            "_dom_classes": [],
            "description": "",
            "_model_name": "HTMLModel",
            "placeholder": "​",
            "_view_module": "@jupyter-widgets/controls",
            "_model_module_version": "1.5.0",
            "value": "Downloading: ",
            "_view_count": null,
            "_view_module_version": "1.5.0",
            "description_tooltip": null,
            "_model_module": "@jupyter-widgets/controls",
            "layout": "IPY_MODEL_f3f0ceb7159e4f06a313560c9a908877"
          }
        },
        "8aeb547ec2ff49d3900babb36ad5bcb7": {
          "model_module": "@jupyter-widgets/controls",
          "model_name": "FloatProgressModel",
          "model_module_version": "1.5.0",
          "state": {
            "_view_name": "ProgressView",
            "style": "IPY_MODEL_301f597fd8de4fe0a798c2102cc45dea",
            "_dom_classes": [],
            "description": "",
            "_model_name": "FloatProgressModel",
            "bar_style": "success",
            "max": 4165,
            "_view_module": "@jupyter-widgets/controls",
            "_model_module_version": "1.5.0",
            "value": 4165,
            "_view_count": null,
            "_view_module_version": "1.5.0",
            "orientation": "horizontal",
            "min": 0,
            "description_tooltip": null,
            "_model_module": "@jupyter-widgets/controls",
            "layout": "IPY_MODEL_c426e0534e734a649c312732b1379818"
          }
        },
        "da9f995ba5c1479e8193da6571db9190": {
          "model_module": "@jupyter-widgets/controls",
          "model_name": "HTMLModel",
          "model_module_version": "1.5.0",
          "state": {
            "_view_name": "HTMLView",
            "style": "IPY_MODEL_edf8b04f2a3f49f0a04c560b59f5b7ee",
            "_dom_classes": [],
            "description": "",
            "_model_name": "HTMLModel",
            "placeholder": "​",
            "_view_module": "@jupyter-widgets/controls",
            "_model_module_version": "1.5.0",
            "value": " 17.9k/? [00:00&lt;00:00, 290kB/s]",
            "_view_count": null,
            "_view_module_version": "1.5.0",
            "description_tooltip": null,
            "_model_module": "@jupyter-widgets/controls",
            "layout": "IPY_MODEL_8c1461f262174a19b93cdeca42d3fd26"
          }
        },
        "6b8b34e2878e4314ab209c67951c556b": {
          "model_module": "@jupyter-widgets/controls",
          "model_name": "DescriptionStyleModel",
          "model_module_version": "1.5.0",
          "state": {
            "_view_name": "StyleView",
            "_model_name": "DescriptionStyleModel",
            "description_width": "",
            "_view_module": "@jupyter-widgets/base",
            "_model_module_version": "1.5.0",
            "_view_count": null,
            "_view_module_version": "1.2.0",
            "_model_module": "@jupyter-widgets/controls"
          }
        },
        "f3f0ceb7159e4f06a313560c9a908877": {
          "model_module": "@jupyter-widgets/base",
          "model_name": "LayoutModel",
          "model_module_version": "1.2.0",
          "state": {
            "_view_name": "LayoutView",
            "grid_template_rows": null,
            "right": null,
            "justify_content": null,
            "_view_module": "@jupyter-widgets/base",
            "overflow": null,
            "_model_module_version": "1.2.0",
            "_view_count": null,
            "flex_flow": null,
            "width": null,
            "min_width": null,
            "border": null,
            "align_items": null,
            "bottom": null,
            "_model_module": "@jupyter-widgets/base",
            "top": null,
            "grid_column": null,
            "overflow_y": null,
            "overflow_x": null,
            "grid_auto_flow": null,
            "grid_area": null,
            "grid_template_columns": null,
            "flex": null,
            "_model_name": "LayoutModel",
            "justify_items": null,
            "grid_row": null,
            "max_height": null,
            "align_content": null,
            "visibility": null,
            "align_self": null,
            "height": null,
            "min_height": null,
            "padding": null,
            "grid_auto_rows": null,
            "grid_gap": null,
            "max_width": null,
            "order": null,
            "_view_module_version": "1.2.0",
            "grid_template_areas": null,
            "object_position": null,
            "object_fit": null,
            "grid_auto_columns": null,
            "margin": null,
            "display": null,
            "left": null
          }
        },
        "301f597fd8de4fe0a798c2102cc45dea": {
          "model_module": "@jupyter-widgets/controls",
          "model_name": "ProgressStyleModel",
          "model_module_version": "1.5.0",
          "state": {
            "_view_name": "StyleView",
            "_model_name": "ProgressStyleModel",
            "description_width": "",
            "_view_module": "@jupyter-widgets/base",
            "_model_module_version": "1.5.0",
            "_view_count": null,
            "_view_module_version": "1.2.0",
            "bar_color": null,
            "_model_module": "@jupyter-widgets/controls"
          }
        },
        "c426e0534e734a649c312732b1379818": {
          "model_module": "@jupyter-widgets/base",
          "model_name": "LayoutModel",
          "model_module_version": "1.2.0",
          "state": {
            "_view_name": "LayoutView",
            "grid_template_rows": null,
            "right": null,
            "justify_content": null,
            "_view_module": "@jupyter-widgets/base",
            "overflow": null,
            "_model_module_version": "1.2.0",
            "_view_count": null,
            "flex_flow": null,
            "width": null,
            "min_width": null,
            "border": null,
            "align_items": null,
            "bottom": null,
            "_model_module": "@jupyter-widgets/base",
            "top": null,
            "grid_column": null,
            "overflow_y": null,
            "overflow_x": null,
            "grid_auto_flow": null,
            "grid_area": null,
            "grid_template_columns": null,
            "flex": null,
            "_model_name": "LayoutModel",
            "justify_items": null,
            "grid_row": null,
            "max_height": null,
            "align_content": null,
            "visibility": null,
            "align_self": null,
            "height": null,
            "min_height": null,
            "padding": null,
            "grid_auto_rows": null,
            "grid_gap": null,
            "max_width": null,
            "order": null,
            "_view_module_version": "1.2.0",
            "grid_template_areas": null,
            "object_position": null,
            "object_fit": null,
            "grid_auto_columns": null,
            "margin": null,
            "display": null,
            "left": null
          }
        },
        "edf8b04f2a3f49f0a04c560b59f5b7ee": {
          "model_module": "@jupyter-widgets/controls",
          "model_name": "DescriptionStyleModel",
          "model_module_version": "1.5.0",
          "state": {
            "_view_name": "StyleView",
            "_model_name": "DescriptionStyleModel",
            "description_width": "",
            "_view_module": "@jupyter-widgets/base",
            "_model_module_version": "1.5.0",
            "_view_count": null,
            "_view_module_version": "1.2.0",
            "_model_module": "@jupyter-widgets/controls"
          }
        },
        "8c1461f262174a19b93cdeca42d3fd26": {
          "model_module": "@jupyter-widgets/base",
          "model_name": "LayoutModel",
          "model_module_version": "1.2.0",
          "state": {
            "_view_name": "LayoutView",
            "grid_template_rows": null,
            "right": null,
            "justify_content": null,
            "_view_module": "@jupyter-widgets/base",
            "overflow": null,
            "_model_module_version": "1.2.0",
            "_view_count": null,
            "flex_flow": null,
            "width": null,
            "min_width": null,
            "border": null,
            "align_items": null,
            "bottom": null,
            "_model_module": "@jupyter-widgets/base",
            "top": null,
            "grid_column": null,
            "overflow_y": null,
            "overflow_x": null,
            "grid_auto_flow": null,
            "grid_area": null,
            "grid_template_columns": null,
            "flex": null,
            "_model_name": "LayoutModel",
            "justify_items": null,
            "grid_row": null,
            "max_height": null,
            "align_content": null,
            "visibility": null,
            "align_self": null,
            "height": null,
            "min_height": null,
            "padding": null,
            "grid_auto_rows": null,
            "grid_gap": null,
            "max_width": null,
            "order": null,
            "_view_module_version": "1.2.0",
            "grid_template_areas": null,
            "object_position": null,
            "object_fit": null,
            "grid_auto_columns": null,
            "margin": null,
            "display": null,
            "left": null
          }
        },
        "3e06a3484d0046ca835e37943bea0bd6": {
          "model_module": "@jupyter-widgets/controls",
          "model_name": "HBoxModel",
          "model_module_version": "1.5.0",
          "state": {
            "_view_name": "HBoxView",
            "_dom_classes": [],
            "_model_name": "HBoxModel",
            "_view_module": "@jupyter-widgets/controls",
            "_model_module_version": "1.5.0",
            "_view_count": null,
            "_view_module_version": "1.5.0",
            "box_style": "",
            "layout": "IPY_MODEL_d7857eb51e6a403384036f28a9f08162",
            "_model_module": "@jupyter-widgets/controls",
            "children": [
              "IPY_MODEL_50fc39fff8bd445d9531eaa6db45ca24",
              "IPY_MODEL_0e23be07d13347329b51565119fa66ee",
              "IPY_MODEL_6c696ac4dba947628ae9ddfa1590a64f"
            ]
          }
        },
        "d7857eb51e6a403384036f28a9f08162": {
          "model_module": "@jupyter-widgets/base",
          "model_name": "LayoutModel",
          "model_module_version": "1.2.0",
          "state": {
            "_view_name": "LayoutView",
            "grid_template_rows": null,
            "right": null,
            "justify_content": null,
            "_view_module": "@jupyter-widgets/base",
            "overflow": null,
            "_model_module_version": "1.2.0",
            "_view_count": null,
            "flex_flow": null,
            "width": null,
            "min_width": null,
            "border": null,
            "align_items": null,
            "bottom": null,
            "_model_module": "@jupyter-widgets/base",
            "top": null,
            "grid_column": null,
            "overflow_y": null,
            "overflow_x": null,
            "grid_auto_flow": null,
            "grid_area": null,
            "grid_template_columns": null,
            "flex": null,
            "_model_name": "LayoutModel",
            "justify_items": null,
            "grid_row": null,
            "max_height": null,
            "align_content": null,
            "visibility": null,
            "align_self": null,
            "height": null,
            "min_height": null,
            "padding": null,
            "grid_auto_rows": null,
            "grid_gap": null,
            "max_width": null,
            "order": null,
            "_view_module_version": "1.2.0",
            "grid_template_areas": null,
            "object_position": null,
            "object_fit": null,
            "grid_auto_columns": null,
            "margin": null,
            "display": null,
            "left": null
          }
        },
        "50fc39fff8bd445d9531eaa6db45ca24": {
          "model_module": "@jupyter-widgets/controls",
          "model_name": "HTMLModel",
          "model_module_version": "1.5.0",
          "state": {
            "_view_name": "HTMLView",
            "style": "IPY_MODEL_5ce9ac5e210747ddaddf08b316a4cf25",
            "_dom_classes": [],
            "description": "",
            "_model_name": "HTMLModel",
            "placeholder": "​",
            "_view_module": "@jupyter-widgets/controls",
            "_model_module_version": "1.5.0",
            "value": "Downloading: ",
            "_view_count": null,
            "_view_module_version": "1.5.0",
            "description_tooltip": null,
            "_model_module": "@jupyter-widgets/controls",
            "layout": "IPY_MODEL_1d71802562c14598b4a0dae8b52830b2"
          }
        },
        "0e23be07d13347329b51565119fa66ee": {
          "model_module": "@jupyter-widgets/controls",
          "model_name": "FloatProgressModel",
          "model_module_version": "1.5.0",
          "state": {
            "_view_name": "ProgressView",
            "style": "IPY_MODEL_fe084499099a4031b67b26b29826f54e",
            "_dom_classes": [],
            "description": "",
            "_model_name": "FloatProgressModel",
            "bar_style": "success",
            "max": 2373,
            "_view_module": "@jupyter-widgets/controls",
            "_model_module_version": "1.5.0",
            "value": 2373,
            "_view_count": null,
            "_view_module_version": "1.5.0",
            "orientation": "horizontal",
            "min": 0,
            "description_tooltip": null,
            "_model_module": "@jupyter-widgets/controls",
            "layout": "IPY_MODEL_24fe0791d66b4eb9afabbfaad3d3f0ce"
          }
        },
        "6c696ac4dba947628ae9ddfa1590a64f": {
          "model_module": "@jupyter-widgets/controls",
          "model_name": "HTMLModel",
          "model_module_version": "1.5.0",
          "state": {
            "_view_name": "HTMLView",
            "style": "IPY_MODEL_f19401be7b81468a843522d4df7480dc",
            "_dom_classes": [],
            "description": "",
            "_model_name": "HTMLModel",
            "placeholder": "​",
            "_view_module": "@jupyter-widgets/controls",
            "_model_module_version": "1.5.0",
            "value": " 19.9k/? [00:00&lt;00:00, 499kB/s]",
            "_view_count": null,
            "_view_module_version": "1.5.0",
            "description_tooltip": null,
            "_model_module": "@jupyter-widgets/controls",
            "layout": "IPY_MODEL_1bdc3249acdb4be691fd98cc985f159c"
          }
        },
        "5ce9ac5e210747ddaddf08b316a4cf25": {
          "model_module": "@jupyter-widgets/controls",
          "model_name": "DescriptionStyleModel",
          "model_module_version": "1.5.0",
          "state": {
            "_view_name": "StyleView",
            "_model_name": "DescriptionStyleModel",
            "description_width": "",
            "_view_module": "@jupyter-widgets/base",
            "_model_module_version": "1.5.0",
            "_view_count": null,
            "_view_module_version": "1.2.0",
            "_model_module": "@jupyter-widgets/controls"
          }
        },
        "1d71802562c14598b4a0dae8b52830b2": {
          "model_module": "@jupyter-widgets/base",
          "model_name": "LayoutModel",
          "model_module_version": "1.2.0",
          "state": {
            "_view_name": "LayoutView",
            "grid_template_rows": null,
            "right": null,
            "justify_content": null,
            "_view_module": "@jupyter-widgets/base",
            "overflow": null,
            "_model_module_version": "1.2.0",
            "_view_count": null,
            "flex_flow": null,
            "width": null,
            "min_width": null,
            "border": null,
            "align_items": null,
            "bottom": null,
            "_model_module": "@jupyter-widgets/base",
            "top": null,
            "grid_column": null,
            "overflow_y": null,
            "overflow_x": null,
            "grid_auto_flow": null,
            "grid_area": null,
            "grid_template_columns": null,
            "flex": null,
            "_model_name": "LayoutModel",
            "justify_items": null,
            "grid_row": null,
            "max_height": null,
            "align_content": null,
            "visibility": null,
            "align_self": null,
            "height": null,
            "min_height": null,
            "padding": null,
            "grid_auto_rows": null,
            "grid_gap": null,
            "max_width": null,
            "order": null,
            "_view_module_version": "1.2.0",
            "grid_template_areas": null,
            "object_position": null,
            "object_fit": null,
            "grid_auto_columns": null,
            "margin": null,
            "display": null,
            "left": null
          }
        },
        "fe084499099a4031b67b26b29826f54e": {
          "model_module": "@jupyter-widgets/controls",
          "model_name": "ProgressStyleModel",
          "model_module_version": "1.5.0",
          "state": {
            "_view_name": "StyleView",
            "_model_name": "ProgressStyleModel",
            "description_width": "",
            "_view_module": "@jupyter-widgets/base",
            "_model_module_version": "1.5.0",
            "_view_count": null,
            "_view_module_version": "1.2.0",
            "bar_color": null,
            "_model_module": "@jupyter-widgets/controls"
          }
        },
        "24fe0791d66b4eb9afabbfaad3d3f0ce": {
          "model_module": "@jupyter-widgets/base",
          "model_name": "LayoutModel",
          "model_module_version": "1.2.0",
          "state": {
            "_view_name": "LayoutView",
            "grid_template_rows": null,
            "right": null,
            "justify_content": null,
            "_view_module": "@jupyter-widgets/base",
            "overflow": null,
            "_model_module_version": "1.2.0",
            "_view_count": null,
            "flex_flow": null,
            "width": null,
            "min_width": null,
            "border": null,
            "align_items": null,
            "bottom": null,
            "_model_module": "@jupyter-widgets/base",
            "top": null,
            "grid_column": null,
            "overflow_y": null,
            "overflow_x": null,
            "grid_auto_flow": null,
            "grid_area": null,
            "grid_template_columns": null,
            "flex": null,
            "_model_name": "LayoutModel",
            "justify_items": null,
            "grid_row": null,
            "max_height": null,
            "align_content": null,
            "visibility": null,
            "align_self": null,
            "height": null,
            "min_height": null,
            "padding": null,
            "grid_auto_rows": null,
            "grid_gap": null,
            "max_width": null,
            "order": null,
            "_view_module_version": "1.2.0",
            "grid_template_areas": null,
            "object_position": null,
            "object_fit": null,
            "grid_auto_columns": null,
            "margin": null,
            "display": null,
            "left": null
          }
        },
        "f19401be7b81468a843522d4df7480dc": {
          "model_module": "@jupyter-widgets/controls",
          "model_name": "DescriptionStyleModel",
          "model_module_version": "1.5.0",
          "state": {
            "_view_name": "StyleView",
            "_model_name": "DescriptionStyleModel",
            "description_width": "",
            "_view_module": "@jupyter-widgets/base",
            "_model_module_version": "1.5.0",
            "_view_count": null,
            "_view_module_version": "1.2.0",
            "_model_module": "@jupyter-widgets/controls"
          }
        },
        "1bdc3249acdb4be691fd98cc985f159c": {
          "model_module": "@jupyter-widgets/base",
          "model_name": "LayoutModel",
          "model_module_version": "1.2.0",
          "state": {
            "_view_name": "LayoutView",
            "grid_template_rows": null,
            "right": null,
            "justify_content": null,
            "_view_module": "@jupyter-widgets/base",
            "overflow": null,
            "_model_module_version": "1.2.0",
            "_view_count": null,
            "flex_flow": null,
            "width": null,
            "min_width": null,
            "border": null,
            "align_items": null,
            "bottom": null,
            "_model_module": "@jupyter-widgets/base",
            "top": null,
            "grid_column": null,
            "overflow_y": null,
            "overflow_x": null,
            "grid_auto_flow": null,
            "grid_area": null,
            "grid_template_columns": null,
            "flex": null,
            "_model_name": "LayoutModel",
            "justify_items": null,
            "grid_row": null,
            "max_height": null,
            "align_content": null,
            "visibility": null,
            "align_self": null,
            "height": null,
            "min_height": null,
            "padding": null,
            "grid_auto_rows": null,
            "grid_gap": null,
            "max_width": null,
            "order": null,
            "_view_module_version": "1.2.0",
            "grid_template_areas": null,
            "object_position": null,
            "object_fit": null,
            "grid_auto_columns": null,
            "margin": null,
            "display": null,
            "left": null
          }
        },
        "db7ecc576da24763a75ec08adb259415": {
          "model_module": "@jupyter-widgets/controls",
          "model_name": "HBoxModel",
          "model_module_version": "1.5.0",
          "state": {
            "_view_name": "HBoxView",
            "_dom_classes": [],
            "_model_name": "HBoxModel",
            "_view_module": "@jupyter-widgets/controls",
            "_model_module_version": "1.5.0",
            "_view_count": null,
            "_view_module_version": "1.5.0",
            "box_style": "",
            "layout": "IPY_MODEL_7137f382ad3e47b0ba20afe77a351b8e",
            "_model_module": "@jupyter-widgets/controls",
            "children": [
              "IPY_MODEL_c41643374af34831b0e4f56bd060e233",
              "IPY_MODEL_51b5245f43884446846dfcc10de347f1",
              "IPY_MODEL_c440d17748584150812f567ff2f3e104"
            ]
          }
        },
        "7137f382ad3e47b0ba20afe77a351b8e": {
          "model_module": "@jupyter-widgets/base",
          "model_name": "LayoutModel",
          "model_module_version": "1.2.0",
          "state": {
            "_view_name": "LayoutView",
            "grid_template_rows": null,
            "right": null,
            "justify_content": null,
            "_view_module": "@jupyter-widgets/base",
            "overflow": null,
            "_model_module_version": "1.2.0",
            "_view_count": null,
            "flex_flow": null,
            "width": null,
            "min_width": null,
            "border": null,
            "align_items": null,
            "bottom": null,
            "_model_module": "@jupyter-widgets/base",
            "top": null,
            "grid_column": null,
            "overflow_y": null,
            "overflow_x": null,
            "grid_auto_flow": null,
            "grid_area": null,
            "grid_template_columns": null,
            "flex": null,
            "_model_name": "LayoutModel",
            "justify_items": null,
            "grid_row": null,
            "max_height": null,
            "align_content": null,
            "visibility": null,
            "align_self": null,
            "height": null,
            "min_height": null,
            "padding": null,
            "grid_auto_rows": null,
            "grid_gap": null,
            "max_width": null,
            "order": null,
            "_view_module_version": "1.2.0",
            "grid_template_areas": null,
            "object_position": null,
            "object_fit": null,
            "grid_auto_columns": null,
            "margin": null,
            "display": null,
            "left": null
          }
        },
        "c41643374af34831b0e4f56bd060e233": {
          "model_module": "@jupyter-widgets/controls",
          "model_name": "HTMLModel",
          "model_module_version": "1.5.0",
          "state": {
            "_view_name": "HTMLView",
            "style": "IPY_MODEL_675411fdfee544f49fb720d6baeacac1",
            "_dom_classes": [],
            "description": "",
            "_model_name": "HTMLModel",
            "placeholder": "​",
            "_view_module": "@jupyter-widgets/controls",
            "_model_module_version": "1.5.0",
            "value": "Downloading: 100%",
            "_view_count": null,
            "_view_module_version": "1.5.0",
            "description_tooltip": null,
            "_model_module": "@jupyter-widgets/controls",
            "layout": "IPY_MODEL_12c01f37a6c14fdab7c4be503a905a8e"
          }
        },
        "51b5245f43884446846dfcc10de347f1": {
          "model_module": "@jupyter-widgets/controls",
          "model_name": "FloatProgressModel",
          "model_module_version": "1.5.0",
          "state": {
            "_view_name": "ProgressView",
            "style": "IPY_MODEL_2f0b0d97be7942c290af57a84a6cdb74",
            "_dom_classes": [],
            "description": "",
            "_model_name": "FloatProgressModel",
            "bar_style": "success",
            "max": 8150596,
            "_view_module": "@jupyter-widgets/controls",
            "_model_module_version": "1.5.0",
            "value": 8150596,
            "_view_count": null,
            "_view_module_version": "1.5.0",
            "orientation": "horizontal",
            "min": 0,
            "description_tooltip": null,
            "_model_module": "@jupyter-widgets/controls",
            "layout": "IPY_MODEL_f0953a3872234c8383ef0c69679a9add"
          }
        },
        "c440d17748584150812f567ff2f3e104": {
          "model_module": "@jupyter-widgets/controls",
          "model_name": "HTMLModel",
          "model_module_version": "1.5.0",
          "state": {
            "_view_name": "HTMLView",
            "style": "IPY_MODEL_15d0f3ec4b764746959380215c91eae9",
            "_dom_classes": [],
            "description": "",
            "_model_name": "HTMLModel",
            "placeholder": "​",
            "_view_module": "@jupyter-widgets/controls",
            "_model_module_version": "1.5.0",
            "value": " 8.15M/8.15M [00:00&lt;00:00, 16.0MB/s]",
            "_view_count": null,
            "_view_module_version": "1.5.0",
            "description_tooltip": null,
            "_model_module": "@jupyter-widgets/controls",
            "layout": "IPY_MODEL_c87231e01b2e4138bc45e97d7881fe94"
          }
        },
        "675411fdfee544f49fb720d6baeacac1": {
          "model_module": "@jupyter-widgets/controls",
          "model_name": "DescriptionStyleModel",
          "model_module_version": "1.5.0",
          "state": {
            "_view_name": "StyleView",
            "_model_name": "DescriptionStyleModel",
            "description_width": "",
            "_view_module": "@jupyter-widgets/base",
            "_model_module_version": "1.5.0",
            "_view_count": null,
            "_view_module_version": "1.2.0",
            "_model_module": "@jupyter-widgets/controls"
          }
        },
        "12c01f37a6c14fdab7c4be503a905a8e": {
          "model_module": "@jupyter-widgets/base",
          "model_name": "LayoutModel",
          "model_module_version": "1.2.0",
          "state": {
            "_view_name": "LayoutView",
            "grid_template_rows": null,
            "right": null,
            "justify_content": null,
            "_view_module": "@jupyter-widgets/base",
            "overflow": null,
            "_model_module_version": "1.2.0",
            "_view_count": null,
            "flex_flow": null,
            "width": null,
            "min_width": null,
            "border": null,
            "align_items": null,
            "bottom": null,
            "_model_module": "@jupyter-widgets/base",
            "top": null,
            "grid_column": null,
            "overflow_y": null,
            "overflow_x": null,
            "grid_auto_flow": null,
            "grid_area": null,
            "grid_template_columns": null,
            "flex": null,
            "_model_name": "LayoutModel",
            "justify_items": null,
            "grid_row": null,
            "max_height": null,
            "align_content": null,
            "visibility": null,
            "align_self": null,
            "height": null,
            "min_height": null,
            "padding": null,
            "grid_auto_rows": null,
            "grid_gap": null,
            "max_width": null,
            "order": null,
            "_view_module_version": "1.2.0",
            "grid_template_areas": null,
            "object_position": null,
            "object_fit": null,
            "grid_auto_columns": null,
            "margin": null,
            "display": null,
            "left": null
          }
        },
        "2f0b0d97be7942c290af57a84a6cdb74": {
          "model_module": "@jupyter-widgets/controls",
          "model_name": "ProgressStyleModel",
          "model_module_version": "1.5.0",
          "state": {
            "_view_name": "StyleView",
            "_model_name": "ProgressStyleModel",
            "description_width": "",
            "_view_module": "@jupyter-widgets/base",
            "_model_module_version": "1.5.0",
            "_view_count": null,
            "_view_module_version": "1.2.0",
            "bar_color": null,
            "_model_module": "@jupyter-widgets/controls"
          }
        },
        "f0953a3872234c8383ef0c69679a9add": {
          "model_module": "@jupyter-widgets/base",
          "model_name": "LayoutModel",
          "model_module_version": "1.2.0",
          "state": {
            "_view_name": "LayoutView",
            "grid_template_rows": null,
            "right": null,
            "justify_content": null,
            "_view_module": "@jupyter-widgets/base",
            "overflow": null,
            "_model_module_version": "1.2.0",
            "_view_count": null,
            "flex_flow": null,
            "width": null,
            "min_width": null,
            "border": null,
            "align_items": null,
            "bottom": null,
            "_model_module": "@jupyter-widgets/base",
            "top": null,
            "grid_column": null,
            "overflow_y": null,
            "overflow_x": null,
            "grid_auto_flow": null,
            "grid_area": null,
            "grid_template_columns": null,
            "flex": null,
            "_model_name": "LayoutModel",
            "justify_items": null,
            "grid_row": null,
            "max_height": null,
            "align_content": null,
            "visibility": null,
            "align_self": null,
            "height": null,
            "min_height": null,
            "padding": null,
            "grid_auto_rows": null,
            "grid_gap": null,
            "max_width": null,
            "order": null,
            "_view_module_version": "1.2.0",
            "grid_template_areas": null,
            "object_position": null,
            "object_fit": null,
            "grid_auto_columns": null,
            "margin": null,
            "display": null,
            "left": null
          }
        },
        "15d0f3ec4b764746959380215c91eae9": {
          "model_module": "@jupyter-widgets/controls",
          "model_name": "DescriptionStyleModel",
          "model_module_version": "1.5.0",
          "state": {
            "_view_name": "StyleView",
            "_model_name": "DescriptionStyleModel",
            "description_width": "",
            "_view_module": "@jupyter-widgets/base",
            "_model_module_version": "1.5.0",
            "_view_count": null,
            "_view_module_version": "1.2.0",
            "_model_module": "@jupyter-widgets/controls"
          }
        },
        "c87231e01b2e4138bc45e97d7881fe94": {
          "model_module": "@jupyter-widgets/base",
          "model_name": "LayoutModel",
          "model_module_version": "1.2.0",
          "state": {
            "_view_name": "LayoutView",
            "grid_template_rows": null,
            "right": null,
            "justify_content": null,
            "_view_module": "@jupyter-widgets/base",
            "overflow": null,
            "_model_module_version": "1.2.0",
            "_view_count": null,
            "flex_flow": null,
            "width": null,
            "min_width": null,
            "border": null,
            "align_items": null,
            "bottom": null,
            "_model_module": "@jupyter-widgets/base",
            "top": null,
            "grid_column": null,
            "overflow_y": null,
            "overflow_x": null,
            "grid_auto_flow": null,
            "grid_area": null,
            "grid_template_columns": null,
            "flex": null,
            "_model_name": "LayoutModel",
            "justify_items": null,
            "grid_row": null,
            "max_height": null,
            "align_content": null,
            "visibility": null,
            "align_self": null,
            "height": null,
            "min_height": null,
            "padding": null,
            "grid_auto_rows": null,
            "grid_gap": null,
            "max_width": null,
            "order": null,
            "_view_module_version": "1.2.0",
            "grid_template_areas": null,
            "object_position": null,
            "object_fit": null,
            "grid_auto_columns": null,
            "margin": null,
            "display": null,
            "left": null
          }
        },
        "ebf2871ce43f4a02961c61ccb8792dc7": {
          "model_module": "@jupyter-widgets/controls",
          "model_name": "HBoxModel",
          "model_module_version": "1.5.0",
          "state": {
            "_view_name": "HBoxView",
            "_dom_classes": [],
            "_model_name": "HBoxModel",
            "_view_module": "@jupyter-widgets/controls",
            "_model_module_version": "1.5.0",
            "_view_count": null,
            "_view_module_version": "1.5.0",
            "box_style": "",
            "layout": "IPY_MODEL_3c742f3eccc54077b6fbfc30dd93e360",
            "_model_module": "@jupyter-widgets/controls",
            "children": [
              "IPY_MODEL_48e900beff9d4fd88cf22199bc4022be",
              "IPY_MODEL_42c0ae003f5e4e54bb4a1b77aaf098f2",
              "IPY_MODEL_bb8abf7ee33845f5982deee2931f8445"
            ]
          }
        },
        "3c742f3eccc54077b6fbfc30dd93e360": {
          "model_module": "@jupyter-widgets/base",
          "model_name": "LayoutModel",
          "model_module_version": "1.2.0",
          "state": {
            "_view_name": "LayoutView",
            "grid_template_rows": null,
            "right": null,
            "justify_content": null,
            "_view_module": "@jupyter-widgets/base",
            "overflow": null,
            "_model_module_version": "1.2.0",
            "_view_count": null,
            "flex_flow": null,
            "width": null,
            "min_width": null,
            "border": null,
            "align_items": null,
            "bottom": null,
            "_model_module": "@jupyter-widgets/base",
            "top": null,
            "grid_column": null,
            "overflow_y": null,
            "overflow_x": null,
            "grid_auto_flow": null,
            "grid_area": null,
            "grid_template_columns": null,
            "flex": null,
            "_model_name": "LayoutModel",
            "justify_items": null,
            "grid_row": null,
            "max_height": null,
            "align_content": null,
            "visibility": null,
            "align_self": null,
            "height": null,
            "min_height": null,
            "padding": null,
            "grid_auto_rows": null,
            "grid_gap": null,
            "max_width": null,
            "order": null,
            "_view_module_version": "1.2.0",
            "grid_template_areas": null,
            "object_position": null,
            "object_fit": null,
            "grid_auto_columns": null,
            "margin": null,
            "display": null,
            "left": null
          }
        },
        "48e900beff9d4fd88cf22199bc4022be": {
          "model_module": "@jupyter-widgets/controls",
          "model_name": "HTMLModel",
          "model_module_version": "1.5.0",
          "state": {
            "_view_name": "HTMLView",
            "style": "IPY_MODEL_34f5475ce0ff437ca9af560e6ef117fa",
            "_dom_classes": [],
            "description": "",
            "_model_name": "HTMLModel",
            "placeholder": "​",
            "_view_module": "@jupyter-widgets/controls",
            "_model_module_version": "1.5.0",
            "value": "",
            "_view_count": null,
            "_view_module_version": "1.5.0",
            "description_tooltip": null,
            "_model_module": "@jupyter-widgets/controls",
            "layout": "IPY_MODEL_a9421b27947d40abafc84acebc1f5fd1"
          }
        },
        "42c0ae003f5e4e54bb4a1b77aaf098f2": {
          "model_module": "@jupyter-widgets/controls",
          "model_name": "FloatProgressModel",
          "model_module_version": "1.5.0",
          "state": {
            "_view_name": "ProgressView",
            "style": "IPY_MODEL_d05f529b19c64b089b19f0059a5a522e",
            "_dom_classes": [],
            "description": "",
            "_model_name": "FloatProgressModel",
            "bar_style": "info",
            "max": 1,
            "_view_module": "@jupyter-widgets/controls",
            "_model_module_version": "1.5.0",
            "value": 1,
            "_view_count": null,
            "_view_module_version": "1.5.0",
            "orientation": "horizontal",
            "min": 0,
            "description_tooltip": null,
            "_model_module": "@jupyter-widgets/controls",
            "layout": "IPY_MODEL_341de43e48974158b0d9d2629b87478c"
          }
        },
        "bb8abf7ee33845f5982deee2931f8445": {
          "model_module": "@jupyter-widgets/controls",
          "model_name": "HTMLModel",
          "model_module_version": "1.5.0",
          "state": {
            "_view_name": "HTMLView",
            "style": "IPY_MODEL_8a2cc587170d4230a69718c34c673e1c",
            "_dom_classes": [],
            "description": "",
            "_model_name": "HTMLModel",
            "placeholder": "​",
            "_view_module": "@jupyter-widgets/controls",
            "_model_module_version": "1.5.0",
            "value": " 3192/0 [00:01&lt;00:00, 3472.19 examples/s]",
            "_view_count": null,
            "_view_module_version": "1.5.0",
            "description_tooltip": null,
            "_model_module": "@jupyter-widgets/controls",
            "layout": "IPY_MODEL_a6f4258bec1b4d6b9246623146af51c4"
          }
        },
        "34f5475ce0ff437ca9af560e6ef117fa": {
          "model_module": "@jupyter-widgets/controls",
          "model_name": "DescriptionStyleModel",
          "model_module_version": "1.5.0",
          "state": {
            "_view_name": "StyleView",
            "_model_name": "DescriptionStyleModel",
            "description_width": "",
            "_view_module": "@jupyter-widgets/base",
            "_model_module_version": "1.5.0",
            "_view_count": null,
            "_view_module_version": "1.2.0",
            "_model_module": "@jupyter-widgets/controls"
          }
        },
        "a9421b27947d40abafc84acebc1f5fd1": {
          "model_module": "@jupyter-widgets/base",
          "model_name": "LayoutModel",
          "model_module_version": "1.2.0",
          "state": {
            "_view_name": "LayoutView",
            "grid_template_rows": null,
            "right": null,
            "justify_content": null,
            "_view_module": "@jupyter-widgets/base",
            "overflow": null,
            "_model_module_version": "1.2.0",
            "_view_count": null,
            "flex_flow": null,
            "width": null,
            "min_width": null,
            "border": null,
            "align_items": null,
            "bottom": null,
            "_model_module": "@jupyter-widgets/base",
            "top": null,
            "grid_column": null,
            "overflow_y": null,
            "overflow_x": null,
            "grid_auto_flow": null,
            "grid_area": null,
            "grid_template_columns": null,
            "flex": null,
            "_model_name": "LayoutModel",
            "justify_items": null,
            "grid_row": null,
            "max_height": null,
            "align_content": null,
            "visibility": null,
            "align_self": null,
            "height": null,
            "min_height": null,
            "padding": null,
            "grid_auto_rows": null,
            "grid_gap": null,
            "max_width": null,
            "order": null,
            "_view_module_version": "1.2.0",
            "grid_template_areas": null,
            "object_position": null,
            "object_fit": null,
            "grid_auto_columns": null,
            "margin": null,
            "display": null,
            "left": null
          }
        },
        "d05f529b19c64b089b19f0059a5a522e": {
          "model_module": "@jupyter-widgets/controls",
          "model_name": "ProgressStyleModel",
          "model_module_version": "1.5.0",
          "state": {
            "_view_name": "StyleView",
            "_model_name": "ProgressStyleModel",
            "description_width": "",
            "_view_module": "@jupyter-widgets/base",
            "_model_module_version": "1.5.0",
            "_view_count": null,
            "_view_module_version": "1.2.0",
            "bar_color": null,
            "_model_module": "@jupyter-widgets/controls"
          }
        },
        "341de43e48974158b0d9d2629b87478c": {
          "model_module": "@jupyter-widgets/base",
          "model_name": "LayoutModel",
          "model_module_version": "1.2.0",
          "state": {
            "_view_name": "LayoutView",
            "grid_template_rows": null,
            "right": null,
            "justify_content": null,
            "_view_module": "@jupyter-widgets/base",
            "overflow": null,
            "_model_module_version": "1.2.0",
            "_view_count": null,
            "flex_flow": null,
            "width": "20px",
            "min_width": null,
            "border": null,
            "align_items": null,
            "bottom": null,
            "_model_module": "@jupyter-widgets/base",
            "top": null,
            "grid_column": null,
            "overflow_y": null,
            "overflow_x": null,
            "grid_auto_flow": null,
            "grid_area": null,
            "grid_template_columns": null,
            "flex": null,
            "_model_name": "LayoutModel",
            "justify_items": null,
            "grid_row": null,
            "max_height": null,
            "align_content": null,
            "visibility": null,
            "align_self": null,
            "height": null,
            "min_height": null,
            "padding": null,
            "grid_auto_rows": null,
            "grid_gap": null,
            "max_width": null,
            "order": null,
            "_view_module_version": "1.2.0",
            "grid_template_areas": null,
            "object_position": null,
            "object_fit": null,
            "grid_auto_columns": null,
            "margin": null,
            "display": null,
            "left": null
          }
        },
        "8a2cc587170d4230a69718c34c673e1c": {
          "model_module": "@jupyter-widgets/controls",
          "model_name": "DescriptionStyleModel",
          "model_module_version": "1.5.0",
          "state": {
            "_view_name": "StyleView",
            "_model_name": "DescriptionStyleModel",
            "description_width": "",
            "_view_module": "@jupyter-widgets/base",
            "_model_module_version": "1.5.0",
            "_view_count": null,
            "_view_module_version": "1.2.0",
            "_model_module": "@jupyter-widgets/controls"
          }
        },
        "a6f4258bec1b4d6b9246623146af51c4": {
          "model_module": "@jupyter-widgets/base",
          "model_name": "LayoutModel",
          "model_module_version": "1.2.0",
          "state": {
            "_view_name": "LayoutView",
            "grid_template_rows": null,
            "right": null,
            "justify_content": null,
            "_view_module": "@jupyter-widgets/base",
            "overflow": null,
            "_model_module_version": "1.2.0",
            "_view_count": null,
            "flex_flow": null,
            "width": null,
            "min_width": null,
            "border": null,
            "align_items": null,
            "bottom": null,
            "_model_module": "@jupyter-widgets/base",
            "top": null,
            "grid_column": null,
            "overflow_y": null,
            "overflow_x": null,
            "grid_auto_flow": null,
            "grid_area": null,
            "grid_template_columns": null,
            "flex": null,
            "_model_name": "LayoutModel",
            "justify_items": null,
            "grid_row": null,
            "max_height": null,
            "align_content": null,
            "visibility": null,
            "align_self": null,
            "height": null,
            "min_height": null,
            "padding": null,
            "grid_auto_rows": null,
            "grid_gap": null,
            "max_width": null,
            "order": null,
            "_view_module_version": "1.2.0",
            "grid_template_areas": null,
            "object_position": null,
            "object_fit": null,
            "grid_auto_columns": null,
            "margin": null,
            "display": null,
            "left": null
          }
        },
        "4261d64f11ad4c6e8cc9b15151059ee8": {
          "model_module": "@jupyter-widgets/controls",
          "model_name": "HBoxModel",
          "model_module_version": "1.5.0",
          "state": {
            "_view_name": "HBoxView",
            "_dom_classes": [],
            "_model_name": "HBoxModel",
            "_view_module": "@jupyter-widgets/controls",
            "_model_module_version": "1.5.0",
            "_view_count": null,
            "_view_module_version": "1.5.0",
            "box_style": "",
            "layout": "IPY_MODEL_4e5e6e09803f458794d204a2549ba4e3",
            "_model_module": "@jupyter-widgets/controls",
            "children": [
              "IPY_MODEL_56881a801d2c48728541dda0226064ba",
              "IPY_MODEL_a2634d499d6b45028bed38e3acc91894",
              "IPY_MODEL_bc5a9fb91bb84ca382d3cc625bf27a9d"
            ]
          }
        },
        "4e5e6e09803f458794d204a2549ba4e3": {
          "model_module": "@jupyter-widgets/base",
          "model_name": "LayoutModel",
          "model_module_version": "1.2.0",
          "state": {
            "_view_name": "LayoutView",
            "grid_template_rows": null,
            "right": null,
            "justify_content": null,
            "_view_module": "@jupyter-widgets/base",
            "overflow": null,
            "_model_module_version": "1.2.0",
            "_view_count": null,
            "flex_flow": null,
            "width": null,
            "min_width": null,
            "border": null,
            "align_items": null,
            "bottom": null,
            "_model_module": "@jupyter-widgets/base",
            "top": null,
            "grid_column": null,
            "overflow_y": null,
            "overflow_x": null,
            "grid_auto_flow": null,
            "grid_area": null,
            "grid_template_columns": null,
            "flex": null,
            "_model_name": "LayoutModel",
            "justify_items": null,
            "grid_row": null,
            "max_height": null,
            "align_content": null,
            "visibility": null,
            "align_self": null,
            "height": null,
            "min_height": null,
            "padding": null,
            "grid_auto_rows": null,
            "grid_gap": null,
            "max_width": null,
            "order": null,
            "_view_module_version": "1.2.0",
            "grid_template_areas": null,
            "object_position": null,
            "object_fit": null,
            "grid_auto_columns": null,
            "margin": null,
            "display": null,
            "left": null
          }
        },
        "56881a801d2c48728541dda0226064ba": {
          "model_module": "@jupyter-widgets/controls",
          "model_name": "HTMLModel",
          "model_module_version": "1.5.0",
          "state": {
            "_view_name": "HTMLView",
            "style": "IPY_MODEL_57eb492a818c488388d78352ee1c32eb",
            "_dom_classes": [],
            "description": "",
            "_model_name": "HTMLModel",
            "placeholder": "​",
            "_view_module": "@jupyter-widgets/controls",
            "_model_module_version": "1.5.0",
            "value": "",
            "_view_count": null,
            "_view_module_version": "1.5.0",
            "description_tooltip": null,
            "_model_module": "@jupyter-widgets/controls",
            "layout": "IPY_MODEL_1f1ce536d1f846a6a739faa16693aea1"
          }
        },
        "a2634d499d6b45028bed38e3acc91894": {
          "model_module": "@jupyter-widgets/controls",
          "model_name": "FloatProgressModel",
          "model_module_version": "1.5.0",
          "state": {
            "_view_name": "ProgressView",
            "style": "IPY_MODEL_f7eed5d3b5ec4817a99355f1d3d7ec69",
            "_dom_classes": [],
            "description": "",
            "_model_name": "FloatProgressModel",
            "bar_style": "info",
            "max": 1,
            "_view_module": "@jupyter-widgets/controls",
            "_model_module_version": "1.5.0",
            "value": 1,
            "_view_count": null,
            "_view_module_version": "1.5.0",
            "orientation": "horizontal",
            "min": 0,
            "description_tooltip": null,
            "_model_module": "@jupyter-widgets/controls",
            "layout": "IPY_MODEL_8a1a1a65407044f19fd3fbd21adbebb8"
          }
        },
        "bc5a9fb91bb84ca382d3cc625bf27a9d": {
          "model_module": "@jupyter-widgets/controls",
          "model_name": "HTMLModel",
          "model_module_version": "1.5.0",
          "state": {
            "_view_name": "HTMLView",
            "style": "IPY_MODEL_62eeb805590f44da9b135e8db8dfb407",
            "_dom_classes": [],
            "description": "",
            "_model_name": "HTMLModel",
            "placeholder": "​",
            "_view_module": "@jupyter-widgets/controls",
            "_model_module_version": "1.5.0",
            "value": " 9338/0 [00:02&lt;00:00, 4176.12 examples/s]",
            "_view_count": null,
            "_view_module_version": "1.5.0",
            "description_tooltip": null,
            "_model_module": "@jupyter-widgets/controls",
            "layout": "IPY_MODEL_db40d49da0754f70bc4c505104abfb8d"
          }
        },
        "57eb492a818c488388d78352ee1c32eb": {
          "model_module": "@jupyter-widgets/controls",
          "model_name": "DescriptionStyleModel",
          "model_module_version": "1.5.0",
          "state": {
            "_view_name": "StyleView",
            "_model_name": "DescriptionStyleModel",
            "description_width": "",
            "_view_module": "@jupyter-widgets/base",
            "_model_module_version": "1.5.0",
            "_view_count": null,
            "_view_module_version": "1.2.0",
            "_model_module": "@jupyter-widgets/controls"
          }
        },
        "1f1ce536d1f846a6a739faa16693aea1": {
          "model_module": "@jupyter-widgets/base",
          "model_name": "LayoutModel",
          "model_module_version": "1.2.0",
          "state": {
            "_view_name": "LayoutView",
            "grid_template_rows": null,
            "right": null,
            "justify_content": null,
            "_view_module": "@jupyter-widgets/base",
            "overflow": null,
            "_model_module_version": "1.2.0",
            "_view_count": null,
            "flex_flow": null,
            "width": null,
            "min_width": null,
            "border": null,
            "align_items": null,
            "bottom": null,
            "_model_module": "@jupyter-widgets/base",
            "top": null,
            "grid_column": null,
            "overflow_y": null,
            "overflow_x": null,
            "grid_auto_flow": null,
            "grid_area": null,
            "grid_template_columns": null,
            "flex": null,
            "_model_name": "LayoutModel",
            "justify_items": null,
            "grid_row": null,
            "max_height": null,
            "align_content": null,
            "visibility": null,
            "align_self": null,
            "height": null,
            "min_height": null,
            "padding": null,
            "grid_auto_rows": null,
            "grid_gap": null,
            "max_width": null,
            "order": null,
            "_view_module_version": "1.2.0",
            "grid_template_areas": null,
            "object_position": null,
            "object_fit": null,
            "grid_auto_columns": null,
            "margin": null,
            "display": null,
            "left": null
          }
        },
        "f7eed5d3b5ec4817a99355f1d3d7ec69": {
          "model_module": "@jupyter-widgets/controls",
          "model_name": "ProgressStyleModel",
          "model_module_version": "1.5.0",
          "state": {
            "_view_name": "StyleView",
            "_model_name": "ProgressStyleModel",
            "description_width": "",
            "_view_module": "@jupyter-widgets/base",
            "_model_module_version": "1.5.0",
            "_view_count": null,
            "_view_module_version": "1.2.0",
            "bar_color": null,
            "_model_module": "@jupyter-widgets/controls"
          }
        },
        "8a1a1a65407044f19fd3fbd21adbebb8": {
          "model_module": "@jupyter-widgets/base",
          "model_name": "LayoutModel",
          "model_module_version": "1.2.0",
          "state": {
            "_view_name": "LayoutView",
            "grid_template_rows": null,
            "right": null,
            "justify_content": null,
            "_view_module": "@jupyter-widgets/base",
            "overflow": null,
            "_model_module_version": "1.2.0",
            "_view_count": null,
            "flex_flow": null,
            "width": "20px",
            "min_width": null,
            "border": null,
            "align_items": null,
            "bottom": null,
            "_model_module": "@jupyter-widgets/base",
            "top": null,
            "grid_column": null,
            "overflow_y": null,
            "overflow_x": null,
            "grid_auto_flow": null,
            "grid_area": null,
            "grid_template_columns": null,
            "flex": null,
            "_model_name": "LayoutModel",
            "justify_items": null,
            "grid_row": null,
            "max_height": null,
            "align_content": null,
            "visibility": null,
            "align_self": null,
            "height": null,
            "min_height": null,
            "padding": null,
            "grid_auto_rows": null,
            "grid_gap": null,
            "max_width": null,
            "order": null,
            "_view_module_version": "1.2.0",
            "grid_template_areas": null,
            "object_position": null,
            "object_fit": null,
            "grid_auto_columns": null,
            "margin": null,
            "display": null,
            "left": null
          }
        },
        "62eeb805590f44da9b135e8db8dfb407": {
          "model_module": "@jupyter-widgets/controls",
          "model_name": "DescriptionStyleModel",
          "model_module_version": "1.5.0",
          "state": {
            "_view_name": "StyleView",
            "_model_name": "DescriptionStyleModel",
            "description_width": "",
            "_view_module": "@jupyter-widgets/base",
            "_model_module_version": "1.5.0",
            "_view_count": null,
            "_view_module_version": "1.2.0",
            "_model_module": "@jupyter-widgets/controls"
          }
        },
        "db40d49da0754f70bc4c505104abfb8d": {
          "model_module": "@jupyter-widgets/base",
          "model_name": "LayoutModel",
          "model_module_version": "1.2.0",
          "state": {
            "_view_name": "LayoutView",
            "grid_template_rows": null,
            "right": null,
            "justify_content": null,
            "_view_module": "@jupyter-widgets/base",
            "overflow": null,
            "_model_module_version": "1.2.0",
            "_view_count": null,
            "flex_flow": null,
            "width": null,
            "min_width": null,
            "border": null,
            "align_items": null,
            "bottom": null,
            "_model_module": "@jupyter-widgets/base",
            "top": null,
            "grid_column": null,
            "overflow_y": null,
            "overflow_x": null,
            "grid_auto_flow": null,
            "grid_area": null,
            "grid_template_columns": null,
            "flex": null,
            "_model_name": "LayoutModel",
            "justify_items": null,
            "grid_row": null,
            "max_height": null,
            "align_content": null,
            "visibility": null,
            "align_self": null,
            "height": null,
            "min_height": null,
            "padding": null,
            "grid_auto_rows": null,
            "grid_gap": null,
            "max_width": null,
            "order": null,
            "_view_module_version": "1.2.0",
            "grid_template_areas": null,
            "object_position": null,
            "object_fit": null,
            "grid_auto_columns": null,
            "margin": null,
            "display": null,
            "left": null
          }
        },
        "7a16fc3379bb453591cd2b298b4deda0": {
          "model_module": "@jupyter-widgets/controls",
          "model_name": "HBoxModel",
          "model_module_version": "1.5.0",
          "state": {
            "_view_name": "HBoxView",
            "_dom_classes": [],
            "_model_name": "HBoxModel",
            "_view_module": "@jupyter-widgets/controls",
            "_model_module_version": "1.5.0",
            "_view_count": null,
            "_view_module_version": "1.5.0",
            "box_style": "",
            "layout": "IPY_MODEL_ae28a90964fa4ced9ba20b0755c12451",
            "_model_module": "@jupyter-widgets/controls",
            "children": [
              "IPY_MODEL_46840ab303174b2d865ca9fca36a01bf",
              "IPY_MODEL_b98ddc1e8d814ce2948949b1f4d35771",
              "IPY_MODEL_5f081261ab14431d9330389c0e40f502"
            ]
          }
        },
        "ae28a90964fa4ced9ba20b0755c12451": {
          "model_module": "@jupyter-widgets/base",
          "model_name": "LayoutModel",
          "model_module_version": "1.2.0",
          "state": {
            "_view_name": "LayoutView",
            "grid_template_rows": null,
            "right": null,
            "justify_content": null,
            "_view_module": "@jupyter-widgets/base",
            "overflow": null,
            "_model_module_version": "1.2.0",
            "_view_count": null,
            "flex_flow": null,
            "width": null,
            "min_width": null,
            "border": null,
            "align_items": null,
            "bottom": null,
            "_model_module": "@jupyter-widgets/base",
            "top": null,
            "grid_column": null,
            "overflow_y": null,
            "overflow_x": null,
            "grid_auto_flow": null,
            "grid_area": null,
            "grid_template_columns": null,
            "flex": null,
            "_model_name": "LayoutModel",
            "justify_items": null,
            "grid_row": null,
            "max_height": null,
            "align_content": null,
            "visibility": null,
            "align_self": null,
            "height": null,
            "min_height": null,
            "padding": null,
            "grid_auto_rows": null,
            "grid_gap": null,
            "max_width": null,
            "order": null,
            "_view_module_version": "1.2.0",
            "grid_template_areas": null,
            "object_position": null,
            "object_fit": null,
            "grid_auto_columns": null,
            "margin": null,
            "display": null,
            "left": null
          }
        },
        "46840ab303174b2d865ca9fca36a01bf": {
          "model_module": "@jupyter-widgets/controls",
          "model_name": "HTMLModel",
          "model_module_version": "1.5.0",
          "state": {
            "_view_name": "HTMLView",
            "style": "IPY_MODEL_147c3c1eb31347098c50dc28fa6a0f56",
            "_dom_classes": [],
            "description": "",
            "_model_name": "HTMLModel",
            "placeholder": "​",
            "_view_module": "@jupyter-widgets/controls",
            "_model_module_version": "1.5.0",
            "value": "",
            "_view_count": null,
            "_view_module_version": "1.5.0",
            "description_tooltip": null,
            "_model_module": "@jupyter-widgets/controls",
            "layout": "IPY_MODEL_44bffdb857074a96b103826e68d7600f"
          }
        },
        "b98ddc1e8d814ce2948949b1f4d35771": {
          "model_module": "@jupyter-widgets/controls",
          "model_name": "FloatProgressModel",
          "model_module_version": "1.5.0",
          "state": {
            "_view_name": "ProgressView",
            "style": "IPY_MODEL_bd2e2e944403436fa2e1ac013287b773",
            "_dom_classes": [],
            "description": "",
            "_model_name": "FloatProgressModel",
            "bar_style": "info",
            "max": 1,
            "_view_module": "@jupyter-widgets/controls",
            "_model_module_version": "1.5.0",
            "value": 1,
            "_view_count": null,
            "_view_module_version": "1.5.0",
            "orientation": "horizontal",
            "min": 0,
            "description_tooltip": null,
            "_model_module": "@jupyter-widgets/controls",
            "layout": "IPY_MODEL_fd52b17496584fb8bddf3238c808ae43"
          }
        },
        "5f081261ab14431d9330389c0e40f502": {
          "model_module": "@jupyter-widgets/controls",
          "model_name": "HTMLModel",
          "model_module_version": "1.5.0",
          "state": {
            "_view_name": "HTMLView",
            "style": "IPY_MODEL_ceeba5e7e2124423961c09c558ac9f1c",
            "_dom_classes": [],
            "description": "",
            "_model_name": "HTMLModel",
            "placeholder": "​",
            "_view_module": "@jupyter-widgets/controls",
            "_model_module_version": "1.5.0",
            "value": " 589/0 [00:00&lt;00:00, 1126.12 examples/s]",
            "_view_count": null,
            "_view_module_version": "1.5.0",
            "description_tooltip": null,
            "_model_module": "@jupyter-widgets/controls",
            "layout": "IPY_MODEL_55dd0bc707ec4c779f3db02cfb1ad048"
          }
        },
        "147c3c1eb31347098c50dc28fa6a0f56": {
          "model_module": "@jupyter-widgets/controls",
          "model_name": "DescriptionStyleModel",
          "model_module_version": "1.5.0",
          "state": {
            "_view_name": "StyleView",
            "_model_name": "DescriptionStyleModel",
            "description_width": "",
            "_view_module": "@jupyter-widgets/base",
            "_model_module_version": "1.5.0",
            "_view_count": null,
            "_view_module_version": "1.2.0",
            "_model_module": "@jupyter-widgets/controls"
          }
        },
        "44bffdb857074a96b103826e68d7600f": {
          "model_module": "@jupyter-widgets/base",
          "model_name": "LayoutModel",
          "model_module_version": "1.2.0",
          "state": {
            "_view_name": "LayoutView",
            "grid_template_rows": null,
            "right": null,
            "justify_content": null,
            "_view_module": "@jupyter-widgets/base",
            "overflow": null,
            "_model_module_version": "1.2.0",
            "_view_count": null,
            "flex_flow": null,
            "width": null,
            "min_width": null,
            "border": null,
            "align_items": null,
            "bottom": null,
            "_model_module": "@jupyter-widgets/base",
            "top": null,
            "grid_column": null,
            "overflow_y": null,
            "overflow_x": null,
            "grid_auto_flow": null,
            "grid_area": null,
            "grid_template_columns": null,
            "flex": null,
            "_model_name": "LayoutModel",
            "justify_items": null,
            "grid_row": null,
            "max_height": null,
            "align_content": null,
            "visibility": null,
            "align_self": null,
            "height": null,
            "min_height": null,
            "padding": null,
            "grid_auto_rows": null,
            "grid_gap": null,
            "max_width": null,
            "order": null,
            "_view_module_version": "1.2.0",
            "grid_template_areas": null,
            "object_position": null,
            "object_fit": null,
            "grid_auto_columns": null,
            "margin": null,
            "display": null,
            "left": null
          }
        },
        "bd2e2e944403436fa2e1ac013287b773": {
          "model_module": "@jupyter-widgets/controls",
          "model_name": "ProgressStyleModel",
          "model_module_version": "1.5.0",
          "state": {
            "_view_name": "StyleView",
            "_model_name": "ProgressStyleModel",
            "description_width": "",
            "_view_module": "@jupyter-widgets/base",
            "_model_module_version": "1.5.0",
            "_view_count": null,
            "_view_module_version": "1.2.0",
            "bar_color": null,
            "_model_module": "@jupyter-widgets/controls"
          }
        },
        "fd52b17496584fb8bddf3238c808ae43": {
          "model_module": "@jupyter-widgets/base",
          "model_name": "LayoutModel",
          "model_module_version": "1.2.0",
          "state": {
            "_view_name": "LayoutView",
            "grid_template_rows": null,
            "right": null,
            "justify_content": null,
            "_view_module": "@jupyter-widgets/base",
            "overflow": null,
            "_model_module_version": "1.2.0",
            "_view_count": null,
            "flex_flow": null,
            "width": "20px",
            "min_width": null,
            "border": null,
            "align_items": null,
            "bottom": null,
            "_model_module": "@jupyter-widgets/base",
            "top": null,
            "grid_column": null,
            "overflow_y": null,
            "overflow_x": null,
            "grid_auto_flow": null,
            "grid_area": null,
            "grid_template_columns": null,
            "flex": null,
            "_model_name": "LayoutModel",
            "justify_items": null,
            "grid_row": null,
            "max_height": null,
            "align_content": null,
            "visibility": null,
            "align_self": null,
            "height": null,
            "min_height": null,
            "padding": null,
            "grid_auto_rows": null,
            "grid_gap": null,
            "max_width": null,
            "order": null,
            "_view_module_version": "1.2.0",
            "grid_template_areas": null,
            "object_position": null,
            "object_fit": null,
            "grid_auto_columns": null,
            "margin": null,
            "display": null,
            "left": null
          }
        },
        "ceeba5e7e2124423961c09c558ac9f1c": {
          "model_module": "@jupyter-widgets/controls",
          "model_name": "DescriptionStyleModel",
          "model_module_version": "1.5.0",
          "state": {
            "_view_name": "StyleView",
            "_model_name": "DescriptionStyleModel",
            "description_width": "",
            "_view_module": "@jupyter-widgets/base",
            "_model_module_version": "1.5.0",
            "_view_count": null,
            "_view_module_version": "1.2.0",
            "_model_module": "@jupyter-widgets/controls"
          }
        },
        "55dd0bc707ec4c779f3db02cfb1ad048": {
          "model_module": "@jupyter-widgets/base",
          "model_name": "LayoutModel",
          "model_module_version": "1.2.0",
          "state": {
            "_view_name": "LayoutView",
            "grid_template_rows": null,
            "right": null,
            "justify_content": null,
            "_view_module": "@jupyter-widgets/base",
            "overflow": null,
            "_model_module_version": "1.2.0",
            "_view_count": null,
            "flex_flow": null,
            "width": null,
            "min_width": null,
            "border": null,
            "align_items": null,
            "bottom": null,
            "_model_module": "@jupyter-widgets/base",
            "top": null,
            "grid_column": null,
            "overflow_y": null,
            "overflow_x": null,
            "grid_auto_flow": null,
            "grid_area": null,
            "grid_template_columns": null,
            "flex": null,
            "_model_name": "LayoutModel",
            "justify_items": null,
            "grid_row": null,
            "max_height": null,
            "align_content": null,
            "visibility": null,
            "align_self": null,
            "height": null,
            "min_height": null,
            "padding": null,
            "grid_auto_rows": null,
            "grid_gap": null,
            "max_width": null,
            "order": null,
            "_view_module_version": "1.2.0",
            "grid_template_areas": null,
            "object_position": null,
            "object_fit": null,
            "grid_auto_columns": null,
            "margin": null,
            "display": null,
            "left": null
          }
        },
        "58379818dc064fab974291b561bf15c0": {
          "model_module": "@jupyter-widgets/controls",
          "model_name": "HBoxModel",
          "model_module_version": "1.5.0",
          "state": {
            "_view_name": "HBoxView",
            "_dom_classes": [],
            "_model_name": "HBoxModel",
            "_view_module": "@jupyter-widgets/controls",
            "_model_module_version": "1.5.0",
            "_view_count": null,
            "_view_module_version": "1.5.0",
            "box_style": "",
            "layout": "IPY_MODEL_711438441690425bbb2c44b9e4bf7025",
            "_model_module": "@jupyter-widgets/controls",
            "children": [
              "IPY_MODEL_ade530b9cf554a3db726013136ebd622",
              "IPY_MODEL_6bacd618ea9545f0892c305cb0a9b1b1",
              "IPY_MODEL_a50903e4c8e04c60a3a0ea555baf7dbc"
            ]
          }
        },
        "711438441690425bbb2c44b9e4bf7025": {
          "model_module": "@jupyter-widgets/base",
          "model_name": "LayoutModel",
          "model_module_version": "1.2.0",
          "state": {
            "_view_name": "LayoutView",
            "grid_template_rows": null,
            "right": null,
            "justify_content": null,
            "_view_module": "@jupyter-widgets/base",
            "overflow": null,
            "_model_module_version": "1.2.0",
            "_view_count": null,
            "flex_flow": null,
            "width": null,
            "min_width": null,
            "border": null,
            "align_items": null,
            "bottom": null,
            "_model_module": "@jupyter-widgets/base",
            "top": null,
            "grid_column": null,
            "overflow_y": null,
            "overflow_x": null,
            "grid_auto_flow": null,
            "grid_area": null,
            "grid_template_columns": null,
            "flex": null,
            "_model_name": "LayoutModel",
            "justify_items": null,
            "grid_row": null,
            "max_height": null,
            "align_content": null,
            "visibility": null,
            "align_self": null,
            "height": null,
            "min_height": null,
            "padding": null,
            "grid_auto_rows": null,
            "grid_gap": null,
            "max_width": null,
            "order": null,
            "_view_module_version": "1.2.0",
            "grid_template_areas": null,
            "object_position": null,
            "object_fit": null,
            "grid_auto_columns": null,
            "margin": null,
            "display": null,
            "left": null
          }
        },
        "ade530b9cf554a3db726013136ebd622": {
          "model_module": "@jupyter-widgets/controls",
          "model_name": "HTMLModel",
          "model_module_version": "1.5.0",
          "state": {
            "_view_name": "HTMLView",
            "style": "IPY_MODEL_f2d61fad90cd4124b2b270ea2b1b6d8a",
            "_dom_classes": [],
            "description": "",
            "_model_name": "HTMLModel",
            "placeholder": "​",
            "_view_module": "@jupyter-widgets/controls",
            "_model_module_version": "1.5.0",
            "value": "100%",
            "_view_count": null,
            "_view_module_version": "1.5.0",
            "description_tooltip": null,
            "_model_module": "@jupyter-widgets/controls",
            "layout": "IPY_MODEL_092782c2eb764b9aa1d57602082981c6"
          }
        },
        "6bacd618ea9545f0892c305cb0a9b1b1": {
          "model_module": "@jupyter-widgets/controls",
          "model_name": "FloatProgressModel",
          "model_module_version": "1.5.0",
          "state": {
            "_view_name": "ProgressView",
            "style": "IPY_MODEL_6d4b207ed087410b88eaef1aca5d0807",
            "_dom_classes": [],
            "description": "",
            "_model_name": "FloatProgressModel",
            "bar_style": "success",
            "max": 3,
            "_view_module": "@jupyter-widgets/controls",
            "_model_module_version": "1.5.0",
            "value": 3,
            "_view_count": null,
            "_view_module_version": "1.5.0",
            "orientation": "horizontal",
            "min": 0,
            "description_tooltip": null,
            "_model_module": "@jupyter-widgets/controls",
            "layout": "IPY_MODEL_e2f305e04e0b4da7bb44f523ffd38025"
          }
        },
        "a50903e4c8e04c60a3a0ea555baf7dbc": {
          "model_module": "@jupyter-widgets/controls",
          "model_name": "HTMLModel",
          "model_module_version": "1.5.0",
          "state": {
            "_view_name": "HTMLView",
            "style": "IPY_MODEL_29581b6b28184a6a821296c0145d4c89",
            "_dom_classes": [],
            "description": "",
            "_model_name": "HTMLModel",
            "placeholder": "​",
            "_view_module": "@jupyter-widgets/controls",
            "_model_module_version": "1.5.0",
            "value": " 3/3 [00:00&lt;00:00, 52.32it/s]",
            "_view_count": null,
            "_view_module_version": "1.5.0",
            "description_tooltip": null,
            "_model_module": "@jupyter-widgets/controls",
            "layout": "IPY_MODEL_a48c3929a1964bd1a4b2d8264cbe3c56"
          }
        },
        "f2d61fad90cd4124b2b270ea2b1b6d8a": {
          "model_module": "@jupyter-widgets/controls",
          "model_name": "DescriptionStyleModel",
          "model_module_version": "1.5.0",
          "state": {
            "_view_name": "StyleView",
            "_model_name": "DescriptionStyleModel",
            "description_width": "",
            "_view_module": "@jupyter-widgets/base",
            "_model_module_version": "1.5.0",
            "_view_count": null,
            "_view_module_version": "1.2.0",
            "_model_module": "@jupyter-widgets/controls"
          }
        },
        "092782c2eb764b9aa1d57602082981c6": {
          "model_module": "@jupyter-widgets/base",
          "model_name": "LayoutModel",
          "model_module_version": "1.2.0",
          "state": {
            "_view_name": "LayoutView",
            "grid_template_rows": null,
            "right": null,
            "justify_content": null,
            "_view_module": "@jupyter-widgets/base",
            "overflow": null,
            "_model_module_version": "1.2.0",
            "_view_count": null,
            "flex_flow": null,
            "width": null,
            "min_width": null,
            "border": null,
            "align_items": null,
            "bottom": null,
            "_model_module": "@jupyter-widgets/base",
            "top": null,
            "grid_column": null,
            "overflow_y": null,
            "overflow_x": null,
            "grid_auto_flow": null,
            "grid_area": null,
            "grid_template_columns": null,
            "flex": null,
            "_model_name": "LayoutModel",
            "justify_items": null,
            "grid_row": null,
            "max_height": null,
            "align_content": null,
            "visibility": null,
            "align_self": null,
            "height": null,
            "min_height": null,
            "padding": null,
            "grid_auto_rows": null,
            "grid_gap": null,
            "max_width": null,
            "order": null,
            "_view_module_version": "1.2.0",
            "grid_template_areas": null,
            "object_position": null,
            "object_fit": null,
            "grid_auto_columns": null,
            "margin": null,
            "display": null,
            "left": null
          }
        },
        "6d4b207ed087410b88eaef1aca5d0807": {
          "model_module": "@jupyter-widgets/controls",
          "model_name": "ProgressStyleModel",
          "model_module_version": "1.5.0",
          "state": {
            "_view_name": "StyleView",
            "_model_name": "ProgressStyleModel",
            "description_width": "",
            "_view_module": "@jupyter-widgets/base",
            "_model_module_version": "1.5.0",
            "_view_count": null,
            "_view_module_version": "1.2.0",
            "bar_color": null,
            "_model_module": "@jupyter-widgets/controls"
          }
        },
        "e2f305e04e0b4da7bb44f523ffd38025": {
          "model_module": "@jupyter-widgets/base",
          "model_name": "LayoutModel",
          "model_module_version": "1.2.0",
          "state": {
            "_view_name": "LayoutView",
            "grid_template_rows": null,
            "right": null,
            "justify_content": null,
            "_view_module": "@jupyter-widgets/base",
            "overflow": null,
            "_model_module_version": "1.2.0",
            "_view_count": null,
            "flex_flow": null,
            "width": null,
            "min_width": null,
            "border": null,
            "align_items": null,
            "bottom": null,
            "_model_module": "@jupyter-widgets/base",
            "top": null,
            "grid_column": null,
            "overflow_y": null,
            "overflow_x": null,
            "grid_auto_flow": null,
            "grid_area": null,
            "grid_template_columns": null,
            "flex": null,
            "_model_name": "LayoutModel",
            "justify_items": null,
            "grid_row": null,
            "max_height": null,
            "align_content": null,
            "visibility": null,
            "align_self": null,
            "height": null,
            "min_height": null,
            "padding": null,
            "grid_auto_rows": null,
            "grid_gap": null,
            "max_width": null,
            "order": null,
            "_view_module_version": "1.2.0",
            "grid_template_areas": null,
            "object_position": null,
            "object_fit": null,
            "grid_auto_columns": null,
            "margin": null,
            "display": null,
            "left": null
          }
        },
        "29581b6b28184a6a821296c0145d4c89": {
          "model_module": "@jupyter-widgets/controls",
          "model_name": "DescriptionStyleModel",
          "model_module_version": "1.5.0",
          "state": {
            "_view_name": "StyleView",
            "_model_name": "DescriptionStyleModel",
            "description_width": "",
            "_view_module": "@jupyter-widgets/base",
            "_model_module_version": "1.5.0",
            "_view_count": null,
            "_view_module_version": "1.2.0",
            "_model_module": "@jupyter-widgets/controls"
          }
        },
        "a48c3929a1964bd1a4b2d8264cbe3c56": {
          "model_module": "@jupyter-widgets/base",
          "model_name": "LayoutModel",
          "model_module_version": "1.2.0",
          "state": {
            "_view_name": "LayoutView",
            "grid_template_rows": null,
            "right": null,
            "justify_content": null,
            "_view_module": "@jupyter-widgets/base",
            "overflow": null,
            "_model_module_version": "1.2.0",
            "_view_count": null,
            "flex_flow": null,
            "width": null,
            "min_width": null,
            "border": null,
            "align_items": null,
            "bottom": null,
            "_model_module": "@jupyter-widgets/base",
            "top": null,
            "grid_column": null,
            "overflow_y": null,
            "overflow_x": null,
            "grid_auto_flow": null,
            "grid_area": null,
            "grid_template_columns": null,
            "flex": null,
            "_model_name": "LayoutModel",
            "justify_items": null,
            "grid_row": null,
            "max_height": null,
            "align_content": null,
            "visibility": null,
            "align_self": null,
            "height": null,
            "min_height": null,
            "padding": null,
            "grid_auto_rows": null,
            "grid_gap": null,
            "max_width": null,
            "order": null,
            "_view_module_version": "1.2.0",
            "grid_template_areas": null,
            "object_position": null,
            "object_fit": null,
            "grid_auto_columns": null,
            "margin": null,
            "display": null,
            "left": null
          }
        }
      }
    }
  },
  "cells": [
    {
      "cell_type": "markdown",
      "source": [
        "### Libraries"
      ],
      "metadata": {
        "id": "b4OB-xtl4CMz"
      }
    },
    {
      "cell_type": "code",
      "source": [
        "from google.colab import drive\n",
        "from pathlib import Path\n",
        "drive.mount('/content/gdrive', force_remount=True)\n",
        "check = Path.cwd()/'gdrive/MyDrive/TMProject'\n",
        "files = list(check.glob(\"**/*.npy\"))"
      ],
      "metadata": {
        "colab": {
          "base_uri": "https://localhost:8080/"
        },
        "id": "bS4ybOd85VM2",
        "outputId": "01130c3a-5695-4f35-8c28-c46aff8eec90"
      },
      "execution_count": null,
      "outputs": [
        {
          "output_type": "stream",
          "name": "stdout",
          "text": [
            "Mounted at /content/gdrive\n"
          ]
        }
      ]
    },
    {
      "cell_type": "code",
      "source": [
        "!pip install datasets"
      ],
      "metadata": {
        "colab": {
          "base_uri": "https://localhost:8080/"
        },
        "id": "vpWbxPJm4yHw",
        "outputId": "24319e16-48c4-45c0-8152-70da69eb84b9"
      },
      "execution_count": null,
      "outputs": [
        {
          "output_type": "stream",
          "name": "stdout",
          "text": [
            "Collecting datasets\n",
            "  Downloading datasets-1.17.0-py3-none-any.whl (306 kB)\n",
            "\u001b[K     |████████████████████████████████| 306 kB 5.2 MB/s \n",
            "\u001b[?25hRequirement already satisfied: tqdm>=4.62.1 in /usr/local/lib/python3.7/dist-packages (from datasets) (4.62.3)\n",
            "Collecting huggingface-hub<1.0.0,>=0.1.0\n",
            "  Downloading huggingface_hub-0.2.1-py3-none-any.whl (61 kB)\n",
            "\u001b[K     |████████████████████████████████| 61 kB 437 kB/s \n",
            "\u001b[?25hRequirement already satisfied: pandas in /usr/local/lib/python3.7/dist-packages (from datasets) (1.1.5)\n",
            "Requirement already satisfied: numpy>=1.17 in /usr/local/lib/python3.7/dist-packages (from datasets) (1.19.5)\n",
            "Collecting xxhash\n",
            "  Downloading xxhash-2.0.2-cp37-cp37m-manylinux2010_x86_64.whl (243 kB)\n",
            "\u001b[K     |████████████████████████████████| 243 kB 55.9 MB/s \n",
            "\u001b[?25hRequirement already satisfied: packaging in /usr/local/lib/python3.7/dist-packages (from datasets) (21.3)\n",
            "Collecting aiohttp\n",
            "  Downloading aiohttp-3.8.1-cp37-cp37m-manylinux_2_5_x86_64.manylinux1_x86_64.manylinux_2_12_x86_64.manylinux2010_x86_64.whl (1.1 MB)\n",
            "\u001b[K     |████████████████████████████████| 1.1 MB 54.1 MB/s \n",
            "\u001b[?25hRequirement already satisfied: dill in /usr/local/lib/python3.7/dist-packages (from datasets) (0.3.4)\n",
            "Requirement already satisfied: requests>=2.19.0 in /usr/local/lib/python3.7/dist-packages (from datasets) (2.23.0)\n",
            "Requirement already satisfied: pyarrow!=4.0.0,>=3.0.0 in /usr/local/lib/python3.7/dist-packages (from datasets) (3.0.0)\n",
            "Requirement already satisfied: importlib-metadata in /usr/local/lib/python3.7/dist-packages (from datasets) (4.8.2)\n",
            "Requirement already satisfied: multiprocess in /usr/local/lib/python3.7/dist-packages (from datasets) (0.70.12.2)\n",
            "Collecting fsspec[http]>=2021.05.0\n",
            "  Downloading fsspec-2021.11.1-py3-none-any.whl (132 kB)\n",
            "\u001b[K     |████████████████████████████████| 132 kB 55.1 MB/s \n",
            "\u001b[?25hRequirement already satisfied: typing-extensions>=3.7.4.3 in /usr/local/lib/python3.7/dist-packages (from huggingface-hub<1.0.0,>=0.1.0->datasets) (3.10.0.2)\n",
            "Requirement already satisfied: filelock in /usr/local/lib/python3.7/dist-packages (from huggingface-hub<1.0.0,>=0.1.0->datasets) (3.4.0)\n",
            "Requirement already satisfied: pyyaml in /usr/local/lib/python3.7/dist-packages (from huggingface-hub<1.0.0,>=0.1.0->datasets) (3.13)\n",
            "Requirement already satisfied: pyparsing!=3.0.5,>=2.0.2 in /usr/local/lib/python3.7/dist-packages (from packaging->datasets) (3.0.6)\n",
            "Requirement already satisfied: certifi>=2017.4.17 in /usr/local/lib/python3.7/dist-packages (from requests>=2.19.0->datasets) (2021.10.8)\n",
            "Requirement already satisfied: urllib3!=1.25.0,!=1.25.1,<1.26,>=1.21.1 in /usr/local/lib/python3.7/dist-packages (from requests>=2.19.0->datasets) (1.24.3)\n",
            "Requirement already satisfied: idna<3,>=2.5 in /usr/local/lib/python3.7/dist-packages (from requests>=2.19.0->datasets) (2.10)\n",
            "Requirement already satisfied: chardet<4,>=3.0.2 in /usr/local/lib/python3.7/dist-packages (from requests>=2.19.0->datasets) (3.0.4)\n",
            "Collecting yarl<2.0,>=1.0\n",
            "  Downloading yarl-1.7.2-cp37-cp37m-manylinux_2_5_x86_64.manylinux1_x86_64.manylinux_2_12_x86_64.manylinux2010_x86_64.whl (271 kB)\n",
            "\u001b[K     |████████████████████████████████| 271 kB 38.3 MB/s \n",
            "\u001b[?25hRequirement already satisfied: attrs>=17.3.0 in /usr/local/lib/python3.7/dist-packages (from aiohttp->datasets) (21.2.0)\n",
            "Collecting aiosignal>=1.1.2\n",
            "  Downloading aiosignal-1.2.0-py3-none-any.whl (8.2 kB)\n",
            "Collecting async-timeout<5.0,>=4.0.0a3\n",
            "  Downloading async_timeout-4.0.2-py3-none-any.whl (5.8 kB)\n",
            "Collecting asynctest==0.13.0\n",
            "  Downloading asynctest-0.13.0-py3-none-any.whl (26 kB)\n",
            "Requirement already satisfied: charset-normalizer<3.0,>=2.0 in /usr/local/lib/python3.7/dist-packages (from aiohttp->datasets) (2.0.9)\n",
            "Collecting multidict<7.0,>=4.5\n",
            "  Downloading multidict-5.2.0-cp37-cp37m-manylinux_2_5_x86_64.manylinux1_x86_64.manylinux_2_12_x86_64.manylinux2010_x86_64.whl (160 kB)\n",
            "\u001b[K     |████████████████████████████████| 160 kB 65.1 MB/s \n",
            "\u001b[?25hCollecting frozenlist>=1.1.1\n",
            "  Downloading frozenlist-1.2.0-cp37-cp37m-manylinux_2_5_x86_64.manylinux1_x86_64.manylinux_2_12_x86_64.manylinux2010_x86_64.whl (192 kB)\n",
            "\u001b[K     |████████████████████████████████| 192 kB 73.7 MB/s \n",
            "\u001b[?25hRequirement already satisfied: zipp>=0.5 in /usr/local/lib/python3.7/dist-packages (from importlib-metadata->datasets) (3.6.0)\n",
            "Requirement already satisfied: python-dateutil>=2.7.3 in /usr/local/lib/python3.7/dist-packages (from pandas->datasets) (2.8.2)\n",
            "Requirement already satisfied: pytz>=2017.2 in /usr/local/lib/python3.7/dist-packages (from pandas->datasets) (2018.9)\n",
            "Requirement already satisfied: six>=1.5 in /usr/local/lib/python3.7/dist-packages (from python-dateutil>=2.7.3->pandas->datasets) (1.15.0)\n",
            "Installing collected packages: multidict, frozenlist, yarl, asynctest, async-timeout, aiosignal, fsspec, aiohttp, xxhash, huggingface-hub, datasets\n",
            "Successfully installed aiohttp-3.8.1 aiosignal-1.2.0 async-timeout-4.0.2 asynctest-0.13.0 datasets-1.17.0 frozenlist-1.2.0 fsspec-2021.11.1 huggingface-hub-0.2.1 multidict-5.2.0 xxhash-2.0.2 yarl-1.7.2\n"
          ]
        }
      ]
    },
    {
      "cell_type": "code",
      "source": [
        "# Data Manipultion\n",
        "import numpy as np\n",
        "import pandas as pd\n",
        "# Visualization\n",
        "import matplotlib.pyplot as plt\n",
        "import seaborn as sns\n",
        "from IPython.display import Audio, display\n",
        "from tqdm import tqdm\n",
        "\n",
        "# OS\n",
        "from pathlib import Path\n",
        "import glob\n",
        "from joblib import dump, load\n",
        "\n",
        "# ML\n",
        "# from sklearn.pipeline import Pipeline\n",
        "from sklearn.feature_extraction.text import CountVectorizer, TfidfVectorizer\n",
        "# from sklearn.naive_bayes import MultinomialNB\n",
        "from sklearn.metrics import precision_score, recall_score, f1_score, precision_recall_fscore_support\n",
        "from sklearn.multiclass import OneVsRestClassifier\n",
        "from sklearn.preprocessing import MultiLabelBinarizer\n",
        "# DL\n",
        "\n",
        "# NLP\n",
        "from datasets import load_dataset, list_datasets"
      ],
      "metadata": {
        "id": "ZP9VtNGN4ARi"
      },
      "execution_count": null,
      "outputs": []
    },
    {
      "cell_type": "markdown",
      "source": [
        "### Helper Functions"
      ],
      "metadata": {
        "id": "xd78OJk647WZ"
      }
    },
    {
      "cell_type": "code",
      "source": [
        "def get_data(*args, **kwargs):\n",
        "    \"\"\"Function to load Reuters data using HuggingFace API.\"\"\"\n",
        "    reuters = load_dataset(\"reuters21578\",\"ModApte\") # ModApte b'coz of \"A re-examination of text categorization methods\" paper\n",
        "    train = reuters['train'] # Same as paper\n",
        "    test = reuters['test'] # Same as paper\n",
        "    train.set_format(type = \"pandas\")\n",
        "    test.set_format(type = \"pandas\")   \n",
        "    df_train = train[:]\n",
        "    df_test = test[:]\n",
        "    # Get empty Indexes: required for dealing with Tensored datasets\n",
        "    empty_train = df_train.index[df_train.topics.str.len().eq(0)] \n",
        "    empty_test = df_test.index[df_test.topics.str.len().eq(0)]\n",
        "\n",
        "    df_train = df_train[~df_train.topics.str.len().eq(0)] # Drop Empty Topics\n",
        "    df_test = df_test[~df_test.topics.str.len().eq(0)] # Drop Empty Topics\n",
        "    cols =df_train.columns\n",
        "\n",
        "    df_train = df_train.drop([col for col in cols if col not in ['text', 'topics']], axis=1)\n",
        "    df_test = df_test.drop([col for col in cols if col not in ['text', 'topics']], axis=1)\n",
        "\n",
        "    X_train = df_train['text']\n",
        "    X_test = df_test['text']\n",
        "    mlb = MultiLabelBinarizer()\n",
        "    y_train = mlb.fit_transform(df_train.topics)\n",
        "    y_test = mlb.transform(df_test.topics)\n",
        "    print(\"Use different yTest and yTrain for BERT model\")\n",
        "    return X_train,X_test,y_train,y_test, empty_train,empty_test\n",
        "\n",
        "def get_from_colab(check,name):\n",
        "    return np.load(f\"{check}/{name}.npy\")\n",
        "\n",
        "def spacy_tokenizer(text):\n",
        "    \"\"\"SpaCy Tokenizer pipeline\"\"\"\n",
        "    doc = nlp(text, disable=['ner', 'tagger', 'parser'])\n",
        "    return [token.text for token in doc if not token.is_stop and not token.is_punct]\n",
        "\n",
        "def allDone():\n",
        "  display(Audio(url='https://sound.peal.io/ps/audios/000/000/537/original/woo_vu_luvub_dub_dub.wav', autoplay=True))\n",
        "\n",
        "\n",
        "######\n",
        "def model_eval(actual,predicted,score,*args,**kwargs):\n",
        "    model_score = score(actual,predicted,*args,**kwargs)\n",
        "    return model_score\n",
        "def hypothesis_test(dx_i,dx, significance=0.05, hypothesis=\"\"):\n",
        "    \"\"\"\n",
        "    Implementation of paired-bootstrap test.\n",
        "    Reference: Berg-Kirkpatrick, et. al. \"An empirical investigation of statistical significance in nlp.\"\n",
        "    \"\"\"\n",
        "    p_value = np.mean(dx_i>= (2*dx))\n",
        "    diff = np.quantile(dx_i, q=(0.025,0.975))\n",
        "    \n",
        "    print(\"\\n\")\n",
        "    if p_value<significance:\n",
        "        \n",
        "        print(f\"We reject the null hypothesis for {hypothesis} at a significance of {significance} at p-value: {p_value}\")\n",
        "\n",
        "    else:\n",
        "        print(f\"We fail to reject the Null Hypothesis {hypothesis} at a significance of {significance} at p-value: {p_value}\")\n",
        "    print(f\"95% CI of delta: {diff}\")\n",
        "    print(\"#\"*10)\n",
        "\n",
        "def paired_bootstrap_test(test_set, model1,model2, B, *args,**kwargs):\n",
        "    \"\"\"\n",
        "    Function to generate \\delta(x) and \\delta(x^{(i)}) for B bootstrap samples.\n",
        "    Reference: \n",
        "        Jurafsky, Daniel, and James H. Martin. \"Speech and Language Processing: An Introduction to Natural Language Processing, Computational Linguistics, and Speech Recognition.\"\n",
        "    Params:\n",
        "    ------\n",
        "    test_set: np.ndarray, Array of test outputs.\n",
        "    model1: np.ndarray, Array of Model A's output.\n",
        "    model2: np.ndarray, Array of Model B's output.\n",
        "    B : int, No of Bootstrap's to be generated\n",
        "    score: Evaluation algorithm.\n",
        "    \"\"\"\n",
        "    N = test_set.shape[0]\n",
        "    p1,r1,f1_1,_=  precision_recall_fscore_support(test_set, model1, *args,**kwargs)\n",
        "    p2,r2,f1_2,_ =  precision_recall_fscore_support(test_set, model2, *args,**kwargs)\n",
        "    delta_precision =  p1-p2 #\\delta(x)\n",
        "    delta_recall = r1-r2\n",
        "    delta_f1 = f1_1-f1_2\n",
        "    deltas_p = np.zeros(B) # for storing \\delta(X) of bootstraps\n",
        "    deltas_r =  np.zeros(B)\n",
        "    deltas_f1 =  np.zeros(B)\n",
        "    indexes = np.random.randint(low=0, high=N, size=(B,N))\n",
        "    for boot in tqdm(range(B)):\n",
        "        \n",
        "        sampleY = test_set[indexes[boot,:],:]\n",
        "        sample1 = model1[indexes[boot,:],:]\n",
        "        model1_p, model1_r,model1_f1,_ = precision_recall_fscore_support(sampleY, sample1,*args,**kwargs)\n",
        "        sample2 = model2[indexes[boot,:],:]\n",
        "        model2_p,model2_r,model2_f1,_ = precision_recall_fscore_support(sampleY, sample2, *args, **kwargs)\n",
        "        # delta_b = sc1 - sc2\n",
        "        delta_p_boot = model1_p-model2_p\n",
        "        delta_r_boot = model1_r - model2_r\n",
        "        delta_f1_boot = model1_f1 - model2_f1\n",
        "\n",
        "        deltas_p[boot] = delta_p_boot\n",
        "        deltas_r[boot] = delta_r_boot\n",
        "        deltas_f1[boot] = delta_f1_boot\n",
        "\n",
        "    for hype in ['precision', 'recall', 'f1']:\n",
        "        if hype ==\"precision\":\n",
        "            hypothesis_test(deltas_p,delta_precision, significance=0.05, hypothesis=hype)\n",
        "        if hype=='recall':\n",
        "            hypothesis_test(deltas_r,delta_recall, significance=0.05, hypothesis=hype)\n",
        "        if hype == \"f1\":\n",
        "            hypothesis_test(deltas_f1,delta_f1, significance=0.05, hypothesis=hype)\n",
        "    # return (deltas, delta)\n",
        "\n",
        "\n",
        "    # return p_value"
      ],
      "metadata": {
        "id": "T05ajPvN49wD"
      },
      "execution_count": null,
      "outputs": []
    },
    {
      "cell_type": "markdown",
      "source": [
        "### Datat Loading"
      ],
      "metadata": {
        "id": "xw6dNwpx1jk9"
      }
    },
    {
      "cell_type": "code",
      "source": [
        "xtrain,xtest,ytrain,ytest,_,_ = get_data()"
      ],
      "metadata": {
        "colab": {
          "base_uri": "https://localhost:8080/",
          "height": 256,
          "referenced_widgets": [
            "de2834a0ce71451e8dffb757f1e3312e",
            "956519e8b812433c94cf3daed2500af7",
            "996defe8300b4749a0957482853a8982",
            "8aeb547ec2ff49d3900babb36ad5bcb7",
            "da9f995ba5c1479e8193da6571db9190",
            "6b8b34e2878e4314ab209c67951c556b",
            "f3f0ceb7159e4f06a313560c9a908877",
            "301f597fd8de4fe0a798c2102cc45dea",
            "c426e0534e734a649c312732b1379818",
            "edf8b04f2a3f49f0a04c560b59f5b7ee",
            "8c1461f262174a19b93cdeca42d3fd26",
            "3e06a3484d0046ca835e37943bea0bd6",
            "d7857eb51e6a403384036f28a9f08162",
            "50fc39fff8bd445d9531eaa6db45ca24",
            "0e23be07d13347329b51565119fa66ee",
            "6c696ac4dba947628ae9ddfa1590a64f",
            "5ce9ac5e210747ddaddf08b316a4cf25",
            "1d71802562c14598b4a0dae8b52830b2",
            "fe084499099a4031b67b26b29826f54e",
            "24fe0791d66b4eb9afabbfaad3d3f0ce",
            "f19401be7b81468a843522d4df7480dc",
            "1bdc3249acdb4be691fd98cc985f159c",
            "db7ecc576da24763a75ec08adb259415",
            "7137f382ad3e47b0ba20afe77a351b8e",
            "c41643374af34831b0e4f56bd060e233",
            "51b5245f43884446846dfcc10de347f1",
            "c440d17748584150812f567ff2f3e104",
            "675411fdfee544f49fb720d6baeacac1",
            "12c01f37a6c14fdab7c4be503a905a8e",
            "2f0b0d97be7942c290af57a84a6cdb74",
            "f0953a3872234c8383ef0c69679a9add",
            "15d0f3ec4b764746959380215c91eae9",
            "c87231e01b2e4138bc45e97d7881fe94",
            "ebf2871ce43f4a02961c61ccb8792dc7",
            "3c742f3eccc54077b6fbfc30dd93e360",
            "48e900beff9d4fd88cf22199bc4022be",
            "42c0ae003f5e4e54bb4a1b77aaf098f2",
            "bb8abf7ee33845f5982deee2931f8445",
            "34f5475ce0ff437ca9af560e6ef117fa",
            "a9421b27947d40abafc84acebc1f5fd1",
            "d05f529b19c64b089b19f0059a5a522e",
            "341de43e48974158b0d9d2629b87478c",
            "8a2cc587170d4230a69718c34c673e1c",
            "a6f4258bec1b4d6b9246623146af51c4",
            "4261d64f11ad4c6e8cc9b15151059ee8",
            "4e5e6e09803f458794d204a2549ba4e3",
            "56881a801d2c48728541dda0226064ba",
            "a2634d499d6b45028bed38e3acc91894",
            "bc5a9fb91bb84ca382d3cc625bf27a9d",
            "57eb492a818c488388d78352ee1c32eb",
            "1f1ce536d1f846a6a739faa16693aea1",
            "f7eed5d3b5ec4817a99355f1d3d7ec69",
            "8a1a1a65407044f19fd3fbd21adbebb8",
            "62eeb805590f44da9b135e8db8dfb407",
            "db40d49da0754f70bc4c505104abfb8d",
            "7a16fc3379bb453591cd2b298b4deda0",
            "ae28a90964fa4ced9ba20b0755c12451",
            "46840ab303174b2d865ca9fca36a01bf",
            "b98ddc1e8d814ce2948949b1f4d35771",
            "5f081261ab14431d9330389c0e40f502",
            "147c3c1eb31347098c50dc28fa6a0f56",
            "44bffdb857074a96b103826e68d7600f",
            "bd2e2e944403436fa2e1ac013287b773",
            "fd52b17496584fb8bddf3238c808ae43",
            "ceeba5e7e2124423961c09c558ac9f1c",
            "55dd0bc707ec4c779f3db02cfb1ad048",
            "58379818dc064fab974291b561bf15c0",
            "711438441690425bbb2c44b9e4bf7025",
            "ade530b9cf554a3db726013136ebd622",
            "6bacd618ea9545f0892c305cb0a9b1b1",
            "a50903e4c8e04c60a3a0ea555baf7dbc",
            "f2d61fad90cd4124b2b270ea2b1b6d8a",
            "092782c2eb764b9aa1d57602082981c6",
            "6d4b207ed087410b88eaef1aca5d0807",
            "e2f305e04e0b4da7bb44f523ffd38025",
            "29581b6b28184a6a821296c0145d4c89",
            "a48c3929a1964bd1a4b2d8264cbe3c56"
          ]
        },
        "id": "_BzdozY0EtuP",
        "outputId": "0367f5c0-fd9c-4634-e2c2-ec0215f81a6a"
      },
      "execution_count": null,
      "outputs": [
        {
          "output_type": "display_data",
          "data": {
            "application/vnd.jupyter.widget-view+json": {
              "model_id": "de2834a0ce71451e8dffb757f1e3312e",
              "version_minor": 0,
              "version_major": 2
            },
            "text/plain": [
              "Downloading:   0%|          | 0.00/4.17k [00:00<?, ?B/s]"
            ]
          },
          "metadata": {}
        },
        {
          "output_type": "display_data",
          "data": {
            "application/vnd.jupyter.widget-view+json": {
              "model_id": "3e06a3484d0046ca835e37943bea0bd6",
              "version_minor": 0,
              "version_major": 2
            },
            "text/plain": [
              "Downloading:   0%|          | 0.00/2.37k [00:00<?, ?B/s]"
            ]
          },
          "metadata": {}
        },
        {
          "output_type": "stream",
          "name": "stdout",
          "text": [
            "Downloading and preparing dataset reuters21578/ModApte (download: 7.77 MiB, generated: 12.48 MiB, post-processed: Unknown size, total: 20.25 MiB) to /root/.cache/huggingface/datasets/reuters21578/ModApte/1.0.0/98a2ad6a0242627562db83992f9625261854c40a88619322596153a5a16a206c...\n"
          ]
        },
        {
          "output_type": "display_data",
          "data": {
            "application/vnd.jupyter.widget-view+json": {
              "model_id": "db7ecc576da24763a75ec08adb259415",
              "version_minor": 0,
              "version_major": 2
            },
            "text/plain": [
              "Downloading:   0%|          | 0.00/8.15M [00:00<?, ?B/s]"
            ]
          },
          "metadata": {}
        },
        {
          "output_type": "display_data",
          "data": {
            "application/vnd.jupyter.widget-view+json": {
              "model_id": "ebf2871ce43f4a02961c61ccb8792dc7",
              "version_minor": 0,
              "version_major": 2
            },
            "text/plain": [
              "0 examples [00:00, ? examples/s]"
            ]
          },
          "metadata": {}
        },
        {
          "output_type": "display_data",
          "data": {
            "application/vnd.jupyter.widget-view+json": {
              "model_id": "4261d64f11ad4c6e8cc9b15151059ee8",
              "version_minor": 0,
              "version_major": 2
            },
            "text/plain": [
              "0 examples [00:00, ? examples/s]"
            ]
          },
          "metadata": {}
        },
        {
          "output_type": "display_data",
          "data": {
            "application/vnd.jupyter.widget-view+json": {
              "model_id": "7a16fc3379bb453591cd2b298b4deda0",
              "version_minor": 0,
              "version_major": 2
            },
            "text/plain": [
              "0 examples [00:00, ? examples/s]"
            ]
          },
          "metadata": {}
        },
        {
          "output_type": "stream",
          "name": "stdout",
          "text": [
            "Dataset reuters21578 downloaded and prepared to /root/.cache/huggingface/datasets/reuters21578/ModApte/1.0.0/98a2ad6a0242627562db83992f9625261854c40a88619322596153a5a16a206c. Subsequent calls will reuse this data.\n"
          ]
        },
        {
          "output_type": "display_data",
          "data": {
            "application/vnd.jupyter.widget-view+json": {
              "model_id": "58379818dc064fab974291b561bf15c0",
              "version_minor": 0,
              "version_major": 2
            },
            "text/plain": [
              "  0%|          | 0/3 [00:00<?, ?it/s]"
            ]
          },
          "metadata": {}
        },
        {
          "output_type": "stream",
          "name": "stdout",
          "text": [
            "Use different yTest and yTrain for BERT model\n"
          ]
        },
        {
          "output_type": "stream",
          "name": "stderr",
          "text": [
            "/usr/local/lib/python3.7/dist-packages/sklearn/preprocessing/_label.py:876: UserWarning: unknown class(es) ['cottonseed', 'f-cattle', 'sfr'] will be ignored\n",
            "  \"unknown class(es) {0} will be ignored\".format(sorted(unknown, key=str))\n"
          ]
        }
      ]
    },
    {
      "cell_type": "code",
      "source": [
        "ytrain.shape,xtest.shape"
      ],
      "metadata": {
        "colab": {
          "base_uri": "https://localhost:8080/"
        },
        "id": "v3n1Uxh8Cgbw",
        "outputId": "5f02955d-dfbe-43dd-f922-01a26638f6cf"
      },
      "execution_count": null,
      "outputs": [
        {
          "output_type": "execute_result",
          "data": {
            "text/plain": [
              "((7775, 115), (3019,))"
            ]
          },
          "metadata": {},
          "execution_count": 8
        }
      ]
    },
    {
      "cell_type": "code",
      "source": [
        "# save data\n",
        "\n",
        "# xtrain,xtest,ytrain,ytest, empty_train,empty_test = get_data()\n",
        "\n",
        "## For BERT\n",
        "ytrain_bert_idx  = get_from_colab(check, 'tuned_bert_original_train_idx')\n",
        "ytest_bert_idx = get_from_colab(check, 'tuned_bert_original_test_idx')\n",
        "## train \n",
        "ytrain_dummy = np.load(f\"{check}/ytrain_dummy.npy\")\n",
        "ytrain_nb = np.load(f\"{check}/naive_bayes_train.npy\")\n",
        "ytrain_knn = np.load(f\"{check}/knn_train.npy\")\n",
        "ytrain_svm = np.load(f\"{check}/svm_train.npy\")\n",
        "ytrain_nn = get_from_colab(check,'nn_train')\n",
        "ytrain_dt = get_from_colab(check, 'ytrain_dt')\n",
        "ytrain_rf = get_from_colab(check, 'ytrain_rf')\n",
        "ytrain_adab = get_from_colab(check, 'ytrain_adab')\n",
        "ytrain_bert = get_from_colab(check, 'tuned_bert_output_train')\n",
        "\n",
        "\n",
        "## test\n",
        "ytestdummy = np.load(f\"{check}/ytest_dummy.npy\")\n",
        "\n",
        "ytest_nb = np.load(f\"{check}/naive_bayes.npy\")\n",
        "\n",
        "ytest_knn = np.load(f\"{check}/knn.npy\")\n",
        "\n",
        "ytest_svm = np.load(f\"{check}/svm.npy\")\n",
        "\n",
        "ytest_nn = get_from_colab(check,'nn')\n",
        "\n",
        "ytest_dt = get_from_colab(check, 'ytest_dt')\n",
        "\n",
        "ytest_rf = get_from_colab(check, 'ytest_rf')\n",
        "\n",
        "ytest_adab = get_from_colab(check, 'ytest_adab')\n",
        "\n",
        "ytest_pred_bert = get_from_colab(check, 'tuned_bert_output_test')\n",
        "# test outputs\n",
        "model_test_result = (ytestdummy,ytest_nb,ytest_knn, ytest_svm, ytest_nn, ytest_dt, ytest_rf, ytest_adab)\n",
        "# print(ytest_pred_bert.shape)\n"
      ],
      "metadata": {
        "id": "qBn8lHpx3aHy"
      },
      "execution_count": null,
      "outputs": []
    },
    {
      "cell_type": "markdown",
      "source": [
        "# Evaluation\n",
        "\n",
        "- miP\n",
        "- miR\n",
        "- miF1"
      ],
      "metadata": {
        "id": "3Lyw_3WHePPt"
      }
    },
    {
      "cell_type": "code",
      "source": [
        "# f1_score(ytrain[ytrain_bert_idx,:], ytrain_bert, average='micro', zero_division=True)"
      ],
      "metadata": {
        "id": "uE36m_kH7Nx7"
      },
      "execution_count": null,
      "outputs": []
    },
    {
      "cell_type": "markdown",
      "source": [
        "## Paired Bootstrap Test"
      ],
      "metadata": {
        "id": "2JNuaCjchr5y"
      }
    },
    {
      "cell_type": "code",
      "source": [
        "bootstrap_samples = 10_000"
      ],
      "metadata": {
        "id": "9IrnJHLV1xwH"
      },
      "execution_count": null,
      "outputs": []
    },
    {
      "cell_type": "markdown",
      "source": [
        "### Comparing with Baseline\n",
        "\n",
        "## miP"
      ],
      "metadata": {
        "id": "a4xZ__F4ndK6"
      }
    },
    {
      "cell_type": "code",
      "source": [
        "# for output in model_test_result[1:]: # Leaving dummy model.\n",
        "paired_bootstrap_test(ytest, ytest_nb, ytest_svm ,B=bootstrap_samples,average='micro', zero_division=True)"
      ],
      "metadata": {
        "colab": {
          "base_uri": "https://localhost:8080/"
        },
        "id": "BY0Ysc3f41_t",
        "outputId": "8e10df7a-bec3-4b52-de0e-dd3c722567c0"
      },
      "execution_count": null,
      "outputs": [
        {
          "output_type": "stream",
          "name": "stderr",
          "text": [
            "100%|██████████| 1000/1000 [01:38<00:00, 10.13it/s]"
          ]
        },
        {
          "output_type": "stream",
          "name": "stdout",
          "text": [
            "\n",
            "\n",
            "We reject the null hypothesis for precision at a significance of 0.05 at p-value: 0.0\n",
            "95% CI of delta: [0.04101657 0.0587549 ]\n",
            "##########\n",
            "\n",
            "\n",
            "We fail to reject the Null Hypothesis recall at a significance of 0.05 at p-value: 1.0\n",
            "95% CI of delta: [-0.36788786 -0.33226501]\n",
            "##########\n",
            "\n",
            "\n",
            "We fail to reject the Null Hypothesis f1 at a significance of 0.05 at p-value: 1.0\n",
            "95% CI of delta: [-0.29676856 -0.26396608]\n",
            "##########\n"
          ]
        },
        {
          "output_type": "stream",
          "name": "stderr",
          "text": [
            "\n"
          ]
        }
      ]
    },
    {
      "cell_type": "code",
      "source": [
        "paired_bootstrap_test(ytest, ytest_nb, ytest_nn ,B=bootstrap_samples,average='micro', zero_division=True)"
      ],
      "metadata": {
        "colab": {
          "base_uri": "https://localhost:8080/"
        },
        "id": "H7rLx1qGTy3Z",
        "outputId": "44839f4f-0cbc-445b-b081-9800781164d4"
      },
      "execution_count": null,
      "outputs": [
        {
          "output_type": "stream",
          "name": "stderr",
          "text": [
            "100%|██████████| 1000/1000 [01:40<00:00,  9.92it/s]"
          ]
        },
        {
          "output_type": "stream",
          "name": "stdout",
          "text": [
            "\n",
            "\n",
            "We reject the null hypothesis for precision at a significance of 0.05 at p-value: 0.0\n",
            "95% CI of delta: [0.04305397 0.0622237 ]\n",
            "##########\n",
            "\n",
            "\n",
            "We fail to reject the Null Hypothesis recall at a significance of 0.05 at p-value: 1.0\n",
            "95% CI of delta: [-0.31090009 -0.2762558 ]\n",
            "##########\n",
            "\n",
            "\n",
            "We fail to reject the Null Hypothesis f1 at a significance of 0.05 at p-value: 1.0\n",
            "95% CI of delta: [-0.25782716 -0.22641202]\n",
            "##########\n"
          ]
        },
        {
          "output_type": "stream",
          "name": "stderr",
          "text": [
            "\n"
          ]
        }
      ]
    },
    {
      "cell_type": "code",
      "source": [
        "paired_bootstrap_test(ytest, ytest_nb, ytest_rf ,B=bootstrap_samples,average='micro', zero_division=True)"
      ],
      "metadata": {
        "colab": {
          "base_uri": "https://localhost:8080/"
        },
        "id": "fiubBRd0DliS",
        "outputId": "093155a0-58e8-45fb-8ffb-fe06287c0243"
      },
      "execution_count": null,
      "outputs": [
        {
          "output_type": "stream",
          "name": "stderr",
          "text": [
            "100%|██████████| 1000/1000 [01:37<00:00, 10.24it/s]"
          ]
        },
        {
          "output_type": "stream",
          "name": "stdout",
          "text": [
            "\n",
            "\n",
            "We reject the null hypothesis for precision at a significance of 0.05 at p-value: 0.0\n",
            "95% CI of delta: [0.0413531 0.0631767]\n",
            "##########\n",
            "\n",
            "\n",
            "We fail to reject the Null Hypothesis recall at a significance of 0.05 at p-value: 1.0\n",
            "95% CI of delta: [-0.15341721 -0.12839884]\n",
            "##########\n",
            "\n",
            "\n",
            "We fail to reject the Null Hypothesis f1 at a significance of 0.05 at p-value: 1.0\n",
            "95% CI of delta: [-0.13736424 -0.11220289]\n",
            "##########\n"
          ]
        },
        {
          "output_type": "stream",
          "name": "stderr",
          "text": [
            "\n"
          ]
        }
      ]
    },
    {
      "cell_type": "code",
      "source": [
        "paired_bootstrap_test(ytest, ytest_nb, ytest_adab ,B=bootstrap_samples,average='micro', zero_division=True)"
      ],
      "metadata": {
        "colab": {
          "base_uri": "https://localhost:8080/"
        },
        "id": "kt6fHDDOT4-I",
        "outputId": "da572749-38a4-42c9-8d21-ef97c06ccc50"
      },
      "execution_count": null,
      "outputs": [
        {
          "output_type": "stream",
          "name": "stderr",
          "text": [
            "100%|██████████| 1000/1000 [01:38<00:00, 10.17it/s]"
          ]
        },
        {
          "output_type": "stream",
          "name": "stdout",
          "text": [
            "\n",
            "\n",
            "We reject the null hypothesis for precision at a significance of 0.05 at p-value: 0.0\n",
            "95% CI of delta: [0.24393054 0.27785601]\n",
            "##########\n",
            "\n",
            "\n",
            "We fail to reject the Null Hypothesis recall at a significance of 0.05 at p-value: 1.0\n",
            "95% CI of delta: [-0.22573748 -0.19757789]\n",
            "##########\n",
            "\n",
            "\n",
            "We fail to reject the Null Hypothesis f1 at a significance of 0.05 at p-value: 1.0\n",
            "95% CI of delta: [-0.1255754  -0.09865581]\n",
            "##########\n"
          ]
        },
        {
          "output_type": "stream",
          "name": "stderr",
          "text": [
            "\n"
          ]
        }
      ]
    },
    {
      "cell_type": "code",
      "source": [
        "paired_bootstrap_test(ytest[ytest_bert_idx,:], ytest_nb[ytest_bert_idx,:], ytest_pred_bert ,B=bootstrap_samples,average='micro', zero_division=True)"
      ],
      "metadata": {
        "colab": {
          "base_uri": "https://localhost:8080/"
        },
        "id": "_nsfA4vHFcIm",
        "outputId": "d686ed16-21d0-457e-dc63-99708de6c093"
      },
      "execution_count": null,
      "outputs": [
        {
          "output_type": "stream",
          "name": "stderr",
          "text": [
            "100%|██████████| 1000/1000 [01:40<00:00,  9.93it/s]"
          ]
        },
        {
          "output_type": "stream",
          "name": "stdout",
          "text": [
            "\n",
            "\n",
            "We reject the null hypothesis for precision at a significance of 0.05 at p-value: 0.0\n",
            "95% CI of delta: [0.08121967 0.1058135 ]\n",
            "##########\n",
            "\n",
            "\n",
            "We fail to reject the Null Hypothesis recall at a significance of 0.05 at p-value: 1.0\n",
            "95% CI of delta: [-0.33874485 -0.3060979 ]\n",
            "##########\n",
            "\n",
            "\n",
            "We fail to reject the Null Hypothesis f1 at a significance of 0.05 at p-value: 1.0\n",
            "95% CI of delta: [-0.26208727 -0.23018825]\n",
            "##########\n"
          ]
        },
        {
          "output_type": "stream",
          "name": "stderr",
          "text": [
            "\n"
          ]
        }
      ]
    },
    {
      "cell_type": "markdown",
      "source": [
        "#### KNN"
      ],
      "metadata": {
        "id": "BcurzgV4UAUk"
      }
    },
    {
      "cell_type": "code",
      "source": [
        "paired_bootstrap_test(ytest[ytest_bert_idx,:], ytest_knn[ytest_bert_idx,:], ytest_pred_bert ,B=bootstrap_samples,average='micro', zero_division=True)"
      ],
      "metadata": {
        "colab": {
          "base_uri": "https://localhost:8080/"
        },
        "id": "A3HIRkxwFS7u",
        "outputId": "b1293ab9-c05e-4d24-cb93-6036790da1bf"
      },
      "execution_count": null,
      "outputs": [
        {
          "output_type": "stream",
          "name": "stderr",
          "text": [
            "100%|██████████| 1000/1000 [01:41<00:00,  9.89it/s]"
          ]
        },
        {
          "output_type": "stream",
          "name": "stdout",
          "text": [
            "\n",
            "\n",
            "We reject the null hypothesis for precision at a significance of 0.05 at p-value: 0.0\n",
            "95% CI of delta: [0.08136087 0.10621859]\n",
            "##########\n",
            "\n",
            "\n",
            "We fail to reject the Null Hypothesis recall at a significance of 0.05 at p-value: 1.0\n",
            "95% CI of delta: [-0.54830962 -0.51255912]\n",
            "##########\n",
            "\n",
            "\n",
            "We fail to reject the Null Hypothesis f1 at a significance of 0.05 at p-value: 1.0\n",
            "95% CI of delta: [-0.52884145 -0.49388768]\n",
            "##########\n"
          ]
        },
        {
          "output_type": "stream",
          "name": "stderr",
          "text": [
            "\n"
          ]
        }
      ]
    },
    {
      "cell_type": "code",
      "source": [
        "paired_bootstrap_test(ytest, ytest_knn, ytest_svm ,B=bootstrap_samples,average='micro', zero_division=True)"
      ],
      "metadata": {
        "colab": {
          "base_uri": "https://localhost:8080/"
        },
        "id": "HAh6NVN_T8A4",
        "outputId": "2d2804a3-f488-4dd7-b246-d013f5c8b977"
      },
      "execution_count": null,
      "outputs": [
        {
          "output_type": "stream",
          "name": "stderr",
          "text": [
            "100%|██████████| 1000/1000 [01:38<00:00, 10.15it/s]"
          ]
        },
        {
          "output_type": "stream",
          "name": "stdout",
          "text": [
            "\n",
            "\n",
            "We reject the null hypothesis for precision at a significance of 0.05 at p-value: 0.0\n",
            "95% CI of delta: [0.03962158 0.05873186]\n",
            "##########\n",
            "\n",
            "\n",
            "We fail to reject the Null Hypothesis recall at a significance of 0.05 at p-value: 1.0\n",
            "95% CI of delta: [-0.57863643 -0.54008625]\n",
            "##########\n",
            "\n",
            "\n",
            "We fail to reject the Null Hypothesis f1 at a significance of 0.05 at p-value: 1.0\n",
            "95% CI of delta: [-0.56513803 -0.52709027]\n",
            "##########\n"
          ]
        },
        {
          "output_type": "stream",
          "name": "stderr",
          "text": [
            "\n"
          ]
        }
      ]
    },
    {
      "cell_type": "code",
      "source": [
        "paired_bootstrap_test(ytest, ytest_knn, ytest_nn ,B=bootstrap_samples,average='micro', zero_division=True)"
      ],
      "metadata": {
        "colab": {
          "base_uri": "https://localhost:8080/"
        },
        "id": "yJCSYGykUFfU",
        "outputId": "f699c457-1549-43bf-a481-b16ce3f09a87"
      },
      "execution_count": null,
      "outputs": [
        {
          "output_type": "stream",
          "name": "stderr",
          "text": [
            "100%|██████████| 1000/1000 [01:39<00:00, 10.07it/s]"
          ]
        },
        {
          "output_type": "stream",
          "name": "stdout",
          "text": [
            "\n",
            "\n",
            "We reject the null hypothesis for precision at a significance of 0.05 at p-value: 0.0\n",
            "95% CI of delta: [0.04098503 0.06252391]\n",
            "##########\n",
            "\n",
            "\n",
            "We fail to reject the Null Hypothesis recall at a significance of 0.05 at p-value: 1.0\n",
            "95% CI of delta: [-0.52164937 -0.48448099]\n",
            "##########\n",
            "\n",
            "\n",
            "We fail to reject the Null Hypothesis f1 at a significance of 0.05 at p-value: 1.0\n",
            "95% CI of delta: [-0.52544596 -0.4887949 ]\n",
            "##########\n"
          ]
        },
        {
          "output_type": "stream",
          "name": "stderr",
          "text": [
            "\n"
          ]
        }
      ]
    },
    {
      "cell_type": "code",
      "source": [
        "paired_bootstrap_test(ytest, ytest_knn, ytest_dt ,B=bootstrap_samples,average='micro', zero_division=True)"
      ],
      "metadata": {
        "colab": {
          "base_uri": "https://localhost:8080/"
        },
        "id": "auYt_qSGUIpm",
        "outputId": "069956c5-2753-40ed-cd52-796c6c6380b1"
      },
      "execution_count": null,
      "outputs": [
        {
          "output_type": "stream",
          "name": "stderr",
          "text": [
            "100%|██████████| 1000/1000 [01:39<00:00, 10.03it/s]"
          ]
        },
        {
          "output_type": "stream",
          "name": "stdout",
          "text": [
            "\n",
            "\n",
            "We reject the null hypothesis for precision at a significance of 0.05 at p-value: 0.0\n",
            "95% CI of delta: [0.3911227  0.43718727]\n",
            "##########\n",
            "\n",
            "\n",
            "We fail to reject the Null Hypothesis recall at a significance of 0.05 at p-value: 1.0\n",
            "95% CI of delta: [-0.44110997 -0.40630555]\n",
            "##########\n",
            "\n",
            "\n",
            "We fail to reject the Null Hypothesis f1 at a significance of 0.05 at p-value: 1.0\n",
            "95% CI of delta: [-0.33086919 -0.29113616]\n",
            "##########\n"
          ]
        },
        {
          "output_type": "stream",
          "name": "stderr",
          "text": [
            "\n"
          ]
        }
      ]
    },
    {
      "cell_type": "code",
      "source": [
        "paired_bootstrap_test(ytest, ytest_knn, ytest_rf ,B=bootstrap_samples,average='micro', zero_division=True)"
      ],
      "metadata": {
        "colab": {
          "base_uri": "https://localhost:8080/"
        },
        "id": "51xIQGQjUQC7",
        "outputId": "f310a49e-324e-49c7-8b65-16882d3e49ec"
      },
      "execution_count": null,
      "outputs": [
        {
          "output_type": "stream",
          "name": "stderr",
          "text": [
            "100%|██████████| 1000/1000 [01:38<00:00, 10.15it/s]"
          ]
        },
        {
          "output_type": "stream",
          "name": "stdout",
          "text": [
            "\n",
            "\n",
            "We reject the null hypothesis for precision at a significance of 0.05 at p-value: 0.0\n",
            "95% CI of delta: [0.03922137 0.0636533 ]\n",
            "##########\n",
            "\n",
            "\n",
            "We fail to reject the Null Hypothesis recall at a significance of 0.05 at p-value: 1.0\n",
            "95% CI of delta: [-0.36883908 -0.33411093]\n",
            "##########\n",
            "\n",
            "\n",
            "We fail to reject the Null Hypothesis f1 at a significance of 0.05 at p-value: 1.0\n",
            "95% CI of delta: [-0.40910972 -0.37320839]\n",
            "##########\n"
          ]
        },
        {
          "output_type": "stream",
          "name": "stderr",
          "text": [
            "\n"
          ]
        }
      ]
    },
    {
      "cell_type": "code",
      "source": [
        "paired_bootstrap_test(ytest, ytest_knn, ytest_adab ,B=bootstrap_samples,average='micro', zero_division=True)"
      ],
      "metadata": {
        "colab": {
          "base_uri": "https://localhost:8080/"
        },
        "id": "y90-5u0CURqg",
        "outputId": "3b311545-7178-4436-88ed-a2449a3af313"
      },
      "execution_count": null,
      "outputs": [
        {
          "output_type": "stream",
          "name": "stderr",
          "text": [
            "100%|██████████| 1000/1000 [01:38<00:00, 10.10it/s]"
          ]
        },
        {
          "output_type": "stream",
          "name": "stdout",
          "text": [
            "\n",
            "\n",
            "We reject the null hypothesis for precision at a significance of 0.05 at p-value: 0.0\n",
            "95% CI of delta: [0.24352439 0.27996   ]\n",
            "##########\n",
            "\n",
            "\n",
            "We fail to reject the Null Hypothesis recall at a significance of 0.05 at p-value: 1.0\n",
            "95% CI of delta: [-0.43944785 -0.40497464]\n",
            "##########\n",
            "\n",
            "\n",
            "We fail to reject the Null Hypothesis f1 at a significance of 0.05 at p-value: 1.0\n",
            "95% CI of delta: [-0.39683331 -0.36057304]\n",
            "##########\n"
          ]
        },
        {
          "output_type": "stream",
          "name": "stderr",
          "text": [
            "\n"
          ]
        }
      ]
    },
    {
      "cell_type": "markdown",
      "source": [
        "### SVM"
      ],
      "metadata": {
        "id": "AGW-mPooUTj7"
      }
    },
    {
      "cell_type": "code",
      "source": [
        "paired_bootstrap_test(ytest[ytest_bert_idx,:], ytest_svm[ytest_bert_idx,:], ytest_pred_bert ,B=bootstrap_samples,average='micro', zero_division=True)"
      ],
      "metadata": {
        "colab": {
          "base_uri": "https://localhost:8080/"
        },
        "id": "RbsXnqobGju0",
        "outputId": "e17d6ae1-6aa7-4dd4-98f7-9549c82c15b0"
      },
      "execution_count": null,
      "outputs": [
        {
          "output_type": "stream",
          "name": "stderr",
          "text": [
            "100%|██████████| 1000/1000 [01:41<00:00,  9.87it/s]\n"
          ]
        },
        {
          "output_type": "stream",
          "name": "stdout",
          "text": [
            "\n",
            "\n",
            "We reject the null hypothesis for precision at a significance of 0.05 at p-value: 0.0\n",
            "95% CI of delta: [0.03155273 0.05680762]\n",
            "##########\n",
            "\n",
            "\n",
            "We reject the null hypothesis for recall at a significance of 0.05 at p-value: 0.0\n",
            "95% CI of delta: [0.01636882 0.0386048 ]\n",
            "##########\n",
            "\n",
            "\n",
            "We reject the null hypothesis for f1 at a significance of 0.05 at p-value: 0.0\n",
            "95% CI of delta: [0.02498089 0.04348081]\n",
            "##########\n"
          ]
        }
      ]
    },
    {
      "cell_type": "code",
      "source": [
        "paired_bootstrap_test(ytest, ytest_svm, ytest_nn ,B=bootstrap_samples,average='micro', zero_division=True)"
      ],
      "metadata": {
        "colab": {
          "base_uri": "https://localhost:8080/"
        },
        "id": "l15CrrYuUU3J",
        "outputId": "256bbe5e-2de1-47cd-960c-0974dc690046"
      },
      "execution_count": null,
      "outputs": [
        {
          "output_type": "stream",
          "name": "stderr",
          "text": [
            "100%|██████████| 1000/1000 [01:40<00:00,  9.99it/s]"
          ]
        },
        {
          "output_type": "stream",
          "name": "stdout",
          "text": [
            "\n",
            "\n",
            "We fail to reject the Null Hypothesis precision at a significance of 0.05 at p-value: 0.25\n",
            "95% CI of delta: [-0.00437208  0.00948478]\n",
            "##########\n",
            "\n",
            "\n",
            "We reject the null hypothesis for recall at a significance of 0.05 at p-value: 0.0\n",
            "95% CI of delta: [0.04721214 0.06638168]\n",
            "##########\n",
            "\n",
            "\n",
            "We reject the null hypothesis for f1 at a significance of 0.05 at p-value: 0.0\n",
            "95% CI of delta: [0.03194841 0.04603829]\n",
            "##########\n"
          ]
        },
        {
          "output_type": "stream",
          "name": "stderr",
          "text": [
            "\n"
          ]
        }
      ]
    },
    {
      "cell_type": "code",
      "source": [
        "paired_bootstrap_test(ytest, ytest_svm, ytest_dt ,B=bootstrap_samples,average='micro', zero_division=True)"
      ],
      "metadata": {
        "colab": {
          "base_uri": "https://localhost:8080/"
        },
        "id": "2CdnlbhFUXhO",
        "outputId": "2dfb5d3f-cb36-4759-9fcd-13d0b63276dd"
      },
      "execution_count": null,
      "outputs": [
        {
          "output_type": "stream",
          "name": "stderr",
          "text": [
            "100%|██████████| 1000/1000 [01:38<00:00, 10.11it/s]"
          ]
        },
        {
          "output_type": "stream",
          "name": "stdout",
          "text": [
            "\n",
            "\n",
            "We reject the null hypothesis for precision at a significance of 0.05 at p-value: 0.0\n",
            "95% CI of delta: [0.34382118 0.3896514 ]\n",
            "##########\n",
            "\n",
            "\n",
            "We reject the null hypothesis for recall at a significance of 0.05 at p-value: 0.0\n",
            "95% CI of delta: [0.12046164 0.14963824]\n",
            "##########\n",
            "\n",
            "\n",
            "We reject the null hypothesis for f1 at a significance of 0.05 at p-value: 0.0\n",
            "95% CI of delta: [0.22046384 0.24965778]\n",
            "##########\n"
          ]
        },
        {
          "output_type": "stream",
          "name": "stderr",
          "text": [
            "\n"
          ]
        }
      ]
    },
    {
      "cell_type": "code",
      "source": [
        "paired_bootstrap_test(ytest, ytest_svm, ytest_rf ,B=bootstrap_samples,average='micro', zero_division=True)"
      ],
      "metadata": {
        "colab": {
          "base_uri": "https://localhost:8080/"
        },
        "id": "cM6NyaEbUaK_",
        "outputId": "63825b4a-5c0d-4536-d43d-3a69d986a58b"
      },
      "execution_count": null,
      "outputs": [
        {
          "output_type": "stream",
          "name": "stderr",
          "text": [
            "100%|██████████| 1000/1000 [01:38<00:00, 10.14it/s]"
          ]
        },
        {
          "output_type": "stream",
          "name": "stdout",
          "text": [
            "\n",
            "\n",
            "We fail to reject the Null Hypothesis precision at a significance of 0.05 at p-value: 0.332\n",
            "95% CI of delta: [-0.00823733  0.01441074]\n",
            "##########\n",
            "\n",
            "\n",
            "We reject the null hypothesis for recall at a significance of 0.05 at p-value: 0.0\n",
            "95% CI of delta: [0.1930188 0.2238925]\n",
            "##########\n",
            "\n",
            "\n",
            "We reject the null hypothesis for f1 at a significance of 0.05 at p-value: 0.0\n",
            "95% CI of delta: [0.14329899 0.16882745]\n",
            "##########\n"
          ]
        },
        {
          "output_type": "stream",
          "name": "stderr",
          "text": [
            "\n"
          ]
        }
      ]
    },
    {
      "cell_type": "code",
      "source": [
        "paired_bootstrap_test(ytest, ytest_svm, ytest_adab ,B=bootstrap_samples,average='micro', zero_division=True)"
      ],
      "metadata": {
        "colab": {
          "base_uri": "https://localhost:8080/"
        },
        "id": "ow7nIfHsUbie",
        "outputId": "8aa9ac8a-53f1-423e-96bb-0addc9f2c8f8"
      },
      "execution_count": null,
      "outputs": [
        {
          "output_type": "stream",
          "name": "stderr",
          "text": [
            "100%|██████████| 1000/1000 [01:39<00:00, 10.05it/s]"
          ]
        },
        {
          "output_type": "stream",
          "name": "stdout",
          "text": [
            "\n",
            "\n",
            "We reject the null hypothesis for precision at a significance of 0.05 at p-value: 0.0\n",
            "95% CI of delta: [0.19507665 0.22892985]\n",
            "##########\n",
            "\n",
            "\n",
            "We reject the null hypothesis for recall at a significance of 0.05 at p-value: 0.0\n",
            "95% CI of delta: [0.12219396 0.15164955]\n",
            "##########\n",
            "\n",
            "\n",
            "We reject the null hypothesis for f1 at a significance of 0.05 at p-value: 0.0\n",
            "95% CI of delta: [0.15516374 0.18038196]\n",
            "##########\n"
          ]
        },
        {
          "output_type": "stream",
          "name": "stderr",
          "text": [
            "\n"
          ]
        }
      ]
    },
    {
      "cell_type": "markdown",
      "source": [
        "### NNet"
      ],
      "metadata": {
        "id": "8J1cl2nCUeLL"
      }
    },
    {
      "cell_type": "code",
      "source": [
        "paired_bootstrap_test(ytest[ytest_bert_idx,:], ytest_nn[ytest_bert_idx,:], ytest_pred_bert ,B=bootstrap_samples,average='micro', zero_division=True)"
      ],
      "metadata": {
        "colab": {
          "base_uri": "https://localhost:8080/"
        },
        "id": "8cv1QWqYGnnx",
        "outputId": "29b5cf74-d0ff-4d8e-ea36-d59563954e0f"
      },
      "execution_count": null,
      "outputs": [
        {
          "output_type": "stream",
          "name": "stderr",
          "text": [
            "100%|██████████| 1000/1000 [01:40<00:00,  9.99it/s]"
          ]
        },
        {
          "output_type": "stream",
          "name": "stdout",
          "text": [
            "\n",
            "\n",
            "We reject the null hypothesis for precision at a significance of 0.05 at p-value: 0.0\n",
            "95% CI of delta: [0.0305056  0.05384295]\n",
            "##########\n",
            "\n",
            "\n",
            "We fail to reject the Null Hypothesis recall at a significance of 0.05 at p-value: 1.0\n",
            "95% CI of delta: [-0.03987344 -0.01549978]\n",
            "##########\n",
            "\n",
            "\n",
            "We fail to reject the Null Hypothesis f1 at a significance of 0.05 at p-value: 0.811\n",
            "95% CI of delta: [-0.01332245  0.00674337]\n",
            "##########\n"
          ]
        },
        {
          "output_type": "stream",
          "name": "stderr",
          "text": [
            "\n"
          ]
        }
      ]
    },
    {
      "cell_type": "code",
      "source": [
        "paired_bootstrap_test(ytest, ytest_nn, ytest_dt ,B=bootstrap_samples,average='micro', zero_division=True)"
      ],
      "metadata": {
        "colab": {
          "base_uri": "https://localhost:8080/"
        },
        "id": "PZpMBMl-UgQ0",
        "outputId": "8e0757d8-0a38-4e3d-d61f-86f3a6b1120a"
      },
      "execution_count": null,
      "outputs": [
        {
          "output_type": "stream",
          "name": "stderr",
          "text": [
            "100%|██████████| 1000/1000 [01:39<00:00, 10.10it/s]"
          ]
        },
        {
          "output_type": "stream",
          "name": "stdout",
          "text": [
            "\n",
            "\n",
            "We reject the null hypothesis for precision at a significance of 0.05 at p-value: 0.0\n",
            "95% CI of delta: [0.34280072 0.38667241]\n",
            "##########\n",
            "\n",
            "\n",
            "We reject the null hypothesis for recall at a significance of 0.05 at p-value: 0.0\n",
            "95% CI of delta: [0.06437471 0.09190627]\n",
            "##########\n",
            "\n",
            "\n",
            "We reject the null hypothesis for f1 at a significance of 0.05 at p-value: 0.0\n",
            "95% CI of delta: [0.18143237 0.20957781]\n",
            "##########\n"
          ]
        },
        {
          "output_type": "stream",
          "name": "stderr",
          "text": [
            "\n"
          ]
        }
      ]
    },
    {
      "cell_type": "code",
      "source": [
        "paired_bootstrap_test(ytest, ytest_nn, ytest_rf ,B=bootstrap_samples,average='micro', zero_division=True)"
      ],
      "metadata": {
        "colab": {
          "base_uri": "https://localhost:8080/"
        },
        "id": "t6951pL7Uijp",
        "outputId": "65096288-a77e-43ee-9ca8-1bd3d429766c"
      },
      "execution_count": null,
      "outputs": [
        {
          "output_type": "stream",
          "name": "stderr",
          "text": [
            "100%|██████████| 1000/1000 [01:38<00:00, 10.12it/s]"
          ]
        },
        {
          "output_type": "stream",
          "name": "stdout",
          "text": [
            "\n",
            "\n",
            "We fail to reject the Null Hypothesis precision at a significance of 0.05 at p-value: 0.492\n",
            "95% CI of delta: [-0.01072308  0.01059644]\n",
            "##########\n",
            "\n",
            "\n",
            "We reject the null hypothesis for recall at a significance of 0.05 at p-value: 0.0\n",
            "95% CI of delta: [0.13958868 0.16645685]\n",
            "##########\n",
            "\n",
            "\n",
            "We reject the null hypothesis for f1 at a significance of 0.05 at p-value: 0.0\n",
            "95% CI of delta: [0.10671666 0.12835179]\n",
            "##########\n"
          ]
        },
        {
          "output_type": "stream",
          "name": "stderr",
          "text": [
            "\n"
          ]
        }
      ]
    },
    {
      "cell_type": "code",
      "source": [
        "paired_bootstrap_test(ytest, ytest_nn, ytest_adab ,B=bootstrap_samples,average='micro', zero_division=True)"
      ],
      "metadata": {
        "colab": {
          "base_uri": "https://localhost:8080/"
        },
        "id": "TMI7SKeAUkro",
        "outputId": "0b3f281b-232f-4b84-f67f-95a3a5e9352b"
      },
      "execution_count": null,
      "outputs": [
        {
          "output_type": "stream",
          "name": "stderr",
          "text": [
            "100%|██████████| 1000/1000 [01:39<00:00, 10.08it/s]"
          ]
        },
        {
          "output_type": "stream",
          "name": "stdout",
          "text": [
            "\n",
            "\n",
            "We reject the null hypothesis for precision at a significance of 0.05 at p-value: 0.0\n",
            "95% CI of delta: [0.19249428 0.22481319]\n",
            "##########\n",
            "\n",
            "\n",
            "We reject the null hypothesis for recall at a significance of 0.05 at p-value: 0.0\n",
            "95% CI of delta: [0.06720164 0.09462789]\n",
            "##########\n",
            "\n",
            "\n",
            "We reject the null hypothesis for f1 at a significance of 0.05 at p-value: 0.0\n",
            "95% CI of delta: [0.11727744 0.14056236]\n",
            "##########\n"
          ]
        },
        {
          "output_type": "stream",
          "name": "stderr",
          "text": [
            "\n"
          ]
        }
      ]
    },
    {
      "cell_type": "markdown",
      "source": [
        "### DT"
      ],
      "metadata": {
        "id": "I38HximUUnok"
      }
    },
    {
      "cell_type": "code",
      "source": [
        "paired_bootstrap_test(ytest[ytest_bert_idx,:], ytest_dt[ytest_bert_idx,:], ytest_pred_bert ,B=bootstrap_samples,average='micro', zero_division=True)"
      ],
      "metadata": {
        "colab": {
          "base_uri": "https://localhost:8080/"
        },
        "id": "uHdNMGvLGzEV",
        "outputId": "a8be1f90-9654-40e1-9115-d829e24899a2"
      },
      "execution_count": null,
      "outputs": [
        {
          "output_type": "stream",
          "name": "stderr",
          "text": [
            "100%|██████████| 1000/1000 [01:42<00:00,  9.74it/s]"
          ]
        },
        {
          "output_type": "stream",
          "name": "stdout",
          "text": [
            "\n",
            "\n",
            "We fail to reject the Null Hypothesis precision at a significance of 0.05 at p-value: 1.0\n",
            "95% CI of delta: [-0.34812175 -0.30076937]\n",
            "##########\n",
            "\n",
            "\n",
            "We fail to reject the Null Hypothesis recall at a significance of 0.05 at p-value: 1.0\n",
            "95% CI of delta: [-0.12113875 -0.09247533]\n",
            "##########\n",
            "\n",
            "\n",
            "We fail to reject the Null Hypothesis f1 at a significance of 0.05 at p-value: 1.0\n",
            "95% CI of delta: [-0.21698912 -0.18470018]\n",
            "##########\n"
          ]
        },
        {
          "output_type": "stream",
          "name": "stderr",
          "text": [
            "\n"
          ]
        }
      ]
    },
    {
      "cell_type": "code",
      "source": [
        "paired_bootstrap_test(ytest, ytest_dt, ytest_rf ,B=bootstrap_samples,average='micro', zero_division=True)"
      ],
      "metadata": {
        "colab": {
          "base_uri": "https://localhost:8080/"
        },
        "id": "9kgd3tdiUmo6",
        "outputId": "ac312dca-cd15-425a-c24f-f5b5b742fbd4"
      },
      "execution_count": null,
      "outputs": [
        {
          "output_type": "stream",
          "name": "stderr",
          "text": [
            "100%|██████████| 1000/1000 [01:40<00:00,  9.99it/s]"
          ]
        },
        {
          "output_type": "stream",
          "name": "stdout",
          "text": [
            "\n",
            "\n",
            "We fail to reject the Null Hypothesis precision at a significance of 0.05 at p-value: 1.0\n",
            "95% CI of delta: [-0.3839375  -0.34291737]\n",
            "##########\n",
            "\n",
            "\n",
            "We reject the null hypothesis for recall at a significance of 0.05 at p-value: 0.0\n",
            "95% CI of delta: [0.05994913 0.08664591]\n",
            "##########\n",
            "\n",
            "\n",
            "We fail to reject the Null Hypothesis f1 at a significance of 0.05 at p-value: 1.0\n",
            "95% CI of delta: [-0.09371725 -0.06476019]\n",
            "##########\n"
          ]
        },
        {
          "output_type": "stream",
          "name": "stderr",
          "text": [
            "\n"
          ]
        }
      ]
    },
    {
      "cell_type": "code",
      "source": [
        "paired_bootstrap_test(ytest, ytest_dt, ytest_adab ,B=bootstrap_samples,average='micro', zero_division=True)"
      ],
      "metadata": {
        "colab": {
          "base_uri": "https://localhost:8080/"
        },
        "id": "NIPo_QTzUtYh",
        "outputId": "f5fc30e8-3d91-4443-9a87-1e41d968cd3a"
      },
      "execution_count": null,
      "outputs": [
        {
          "output_type": "stream",
          "name": "stderr",
          "text": [
            "100%|██████████| 1000/1000 [01:39<00:00, 10.06it/s]"
          ]
        },
        {
          "output_type": "stream",
          "name": "stdout",
          "text": [
            "\n",
            "\n",
            "We fail to reject the Null Hypothesis precision at a significance of 0.05 at p-value: 1.0\n",
            "95% CI of delta: [-0.17729494 -0.13287701]\n",
            "##########\n",
            "\n",
            "\n",
            "We fail to reject the Null Hypothesis recall at a significance of 0.05 at p-value: 0.373\n",
            "95% CI of delta: [-0.01121637  0.01443984]\n",
            "##########\n",
            "\n",
            "\n",
            "We fail to reject the Null Hypothesis f1 at a significance of 0.05 at p-value: 1.0\n",
            "95% CI of delta: [-0.08217073 -0.05461293]\n",
            "##########\n"
          ]
        },
        {
          "output_type": "stream",
          "name": "stderr",
          "text": [
            "\n"
          ]
        }
      ]
    },
    {
      "cell_type": "markdown",
      "source": [
        "### RF"
      ],
      "metadata": {
        "id": "CWzi8E4KUv4A"
      }
    },
    {
      "cell_type": "code",
      "source": [
        "paired_bootstrap_test(ytest[ytest_bert_idx,:], ytest_rf[ytest_bert_idx,:], ytest_pred_bert ,B=bootstrap_samples,average='micro', zero_division=True)"
      ],
      "metadata": {
        "colab": {
          "base_uri": "https://localhost:8080/"
        },
        "id": "G1AmAhlDG5Cw",
        "outputId": "a7d69e26-3c05-4713-ddfc-84b78505f519"
      },
      "execution_count": null,
      "outputs": [
        {
          "output_type": "stream",
          "name": "stderr",
          "text": [
            "100%|██████████| 1000/1000 [01:40<00:00,  9.95it/s]"
          ]
        },
        {
          "output_type": "stream",
          "name": "stdout",
          "text": [
            "\n",
            "\n",
            "We reject the null hypothesis for precision at a significance of 0.05 at p-value: 0.0\n",
            "95% CI of delta: [0.02705974 0.05635914]\n",
            "##########\n",
            "\n",
            "\n",
            "We fail to reject the Null Hypothesis recall at a significance of 0.05 at p-value: 1.0\n",
            "95% CI of delta: [-0.19459532 -0.16612454]\n",
            "##########\n",
            "\n",
            "\n",
            "We fail to reject the Null Hypothesis f1 at a significance of 0.05 at p-value: 1.0\n",
            "95% CI of delta: [-0.1338307 -0.1078916]\n",
            "##########\n"
          ]
        },
        {
          "output_type": "stream",
          "name": "stderr",
          "text": [
            "\n"
          ]
        }
      ]
    },
    {
      "cell_type": "code",
      "source": [
        "paired_bootstrap_test(ytest, ytest_rf, ytest_adab ,B=bootstrap_samples,average='micro', zero_division=True)"
      ],
      "metadata": {
        "colab": {
          "base_uri": "https://localhost:8080/"
        },
        "id": "vmTMIAkIUvMt",
        "outputId": "0cf9c6d5-a712-446c-d277-51bac892cf44"
      },
      "execution_count": null,
      "outputs": [
        {
          "output_type": "stream",
          "name": "stderr",
          "text": [
            "100%|██████████| 1000/1000 [01:39<00:00, 10.06it/s]"
          ]
        },
        {
          "output_type": "stream",
          "name": "stdout",
          "text": [
            "\n",
            "\n",
            "We reject the null hypothesis for precision at a significance of 0.05 at p-value: 0.0\n",
            "95% CI of delta: [0.19042767 0.22624237]\n",
            "##########\n",
            "\n",
            "\n",
            "We fail to reject the Null Hypothesis recall at a significance of 0.05 at p-value: 1.0\n",
            "95% CI of delta: [-0.08357488 -0.05851027]\n",
            "##########\n",
            "\n",
            "\n",
            "We reject the null hypothesis for f1 at a significance of 0.05 at p-value: 0.02\n",
            "95% CI of delta: [0.00094641 0.02355404]\n",
            "##########\n"
          ]
        },
        {
          "output_type": "stream",
          "name": "stderr",
          "text": [
            "\n"
          ]
        }
      ]
    },
    {
      "cell_type": "markdown",
      "source": [
        "### AdaBoost"
      ],
      "metadata": {
        "id": "iRx2hsQOG9rg"
      }
    },
    {
      "cell_type": "code",
      "source": [
        "paired_bootstrap_test(ytest[ytest_bert_idx,:], ytest_adab[ytest_bert_idx,:], ytest_pred_bert ,B=bootstrap_samples,average='micro', zero_division=True)"
      ],
      "metadata": {
        "colab": {
          "base_uri": "https://localhost:8080/"
        },
        "id": "qYu6cgoZG_cs",
        "outputId": "f22c0eb4-4d32-49fc-cc77-9fe9bc26bf2b"
      },
      "execution_count": null,
      "outputs": [
        {
          "output_type": "stream",
          "name": "stderr",
          "text": [
            "100%|██████████| 1000/1000 [01:41<00:00,  9.81it/s]"
          ]
        },
        {
          "output_type": "stream",
          "name": "stdout",
          "text": [
            "\n",
            "\n",
            "We fail to reject the Null Hypothesis precision at a significance of 0.05 at p-value: 1.0\n",
            "95% CI of delta: [-0.18532657 -0.14776067]\n",
            "##########\n",
            "\n",
            "\n",
            "We fail to reject the Null Hypothesis recall at a significance of 0.05 at p-value: 1.0\n",
            "95% CI of delta: [-0.12349754 -0.09516016]\n",
            "##########\n",
            "\n",
            "\n",
            "We fail to reject the Null Hypothesis f1 at a significance of 0.05 at p-value: 1.0\n",
            "95% CI of delta: [-0.14504792 -0.12044888]\n",
            "##########\n"
          ]
        },
        {
          "output_type": "stream",
          "name": "stderr",
          "text": [
            "\n"
          ]
        }
      ]
    },
    {
      "cell_type": "markdown",
      "source": [
        "----\n",
        "\n",
        "### Plotting"
      ],
      "metadata": {
        "id": "mxSdT_a6HEA7"
      }
    },
    {
      "cell_type": "code",
      "source": [
        "sns.displot(dx_i,  kind='kde', label = r\"$\\delta(\\mathbf{X})>\\delta(x)$\")\n",
        "plt.xlabel(r\"$\\delta$ P/R/F1\")\n",
        "plt.axvline(x=dx, color='blue', label=r\"$\\delta(x)$\")\n",
        "plt.legend()\n",
        "plt.show()"
      ],
      "metadata": {
        "colab": {
          "base_uri": "https://localhost:8080/",
          "height": 386
        },
        "id": "ciHLbT9opItO",
        "outputId": "3da67e99-9dae-47e1-9979-c3bb0569c58e"
      },
      "execution_count": null,
      "outputs": [
        {
          "output_type": "display_data",
          "data": {
            "image/png": "[encoded data removed]",
            "text/plain": [
              "<Figure size 360x360 with 1 Axes>"
            ]
          },
          "metadata": {
            "needs_background": "light"
          }
        }
      ]
    }
  ]
}